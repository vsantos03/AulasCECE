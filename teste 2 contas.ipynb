{
 "cells": [
  {
   "cell_type": "code",
   "id": "initial_id",
   "metadata": {
    "collapsed": true,
    "ExecuteTime": {
     "end_time": "2025-04-03T12:24:00.509464Z",
     "start_time": "2025-04-03T12:24:00.502461Z"
    }
   },
   "source": [
    "import numpy\n",
    "import pandas as pd"
   ],
   "outputs": [],
   "execution_count": 25
  },
  {
   "metadata": {
    "ExecuteTime": {
     "end_time": "2025-04-03T12:13:13.978759Z",
     "start_time": "2025-04-03T12:13:13.961443Z"
    }
   },
   "cell_type": "code",
   "source": [
    "palette = {1:\"blue\", 2:\"black\", 5:\"green\"}\n",
    "palette[1] = \"brown\""
   ],
   "id": "1bfb3948fef5ff66",
   "outputs": [],
   "execution_count": 2
  },
  {
   "metadata": {
    "ExecuteTime": {
     "end_time": "2025-04-03T12:22:40.033245Z",
     "start_time": "2025-04-03T12:22:40.018361Z"
    }
   },
   "cell_type": "code",
   "source": [
    "movies = {\n",
    "    'Title': ['Collide', 'The Heartbreak Kid', 'American Pastoral', 'Goosebumps', 'Australia', 'Les Misérables', 'The Illusionist', 'The Big Short'],\n",
    "    'Year': [2016, 2007, 2016, 2015, 2008, 2012, 2006, 2015],\n",
    "    'Rating': [5.7, 5.8, 6.1, 6.3, 6.6, 7.6, 7.6, 7.8],\n",
    "    'Metascore': [33.0, 46.0, np.nan, 60.0, 53.0, 63.0, 68.0, 81.0]\n",
    "}\n",
    "\n",
    "df = pd.DataFrame(movies)\n"
   ],
   "id": "7ed5d7064d143605",
   "outputs": [],
   "execution_count": 17
  },
  {
   "metadata": {
    "ExecuteTime": {
     "end_time": "2025-04-03T12:22:24.959017Z",
     "start_time": "2025-04-03T12:22:24.952145Z"
    }
   },
   "cell_type": "code",
   "source": "scores = (10, 19, 14, 17, 18, 19)",
   "id": "11db34bbd8442199",
   "outputs": [],
   "execution_count": 16
  },
  {
   "metadata": {
    "ExecuteTime": {
     "end_time": "2025-04-03T12:23:33.862233Z",
     "start_time": "2025-04-03T12:23:33.846805Z"
    }
   },
   "cell_type": "code",
   "source": "df.loc[-2:]",
   "id": "1288ce9f2752c269",
   "outputs": [
    {
     "data": {
      "text/plain": [
       "                Title  Year  Rating  Metascore\n",
       "0             Collide  2016     5.7       33.0\n",
       "1  The Heartbreak Kid  2007     5.8       46.0\n",
       "2   American Pastoral  2016     6.1        NaN\n",
       "3          Goosebumps  2015     6.3       60.0\n",
       "4           Australia  2008     6.6       53.0\n",
       "5      Les Misérables  2012     7.6       63.0\n",
       "6     The Illusionist  2006     7.6       68.0\n",
       "7       The Big Short  2015     7.8       81.0"
      ],
      "text/html": [
       "<div>\n",
       "<style scoped>\n",
       "    .dataframe tbody tr th:only-of-type {\n",
       "        vertical-align: middle;\n",
       "    }\n",
       "\n",
       "    .dataframe tbody tr th {\n",
       "        vertical-align: top;\n",
       "    }\n",
       "\n",
       "    .dataframe thead th {\n",
       "        text-align: right;\n",
       "    }\n",
       "</style>\n",
       "<table border=\"1\" class=\"dataframe\">\n",
       "  <thead>\n",
       "    <tr style=\"text-align: right;\">\n",
       "      <th></th>\n",
       "      <th>Title</th>\n",
       "      <th>Year</th>\n",
       "      <th>Rating</th>\n",
       "      <th>Metascore</th>\n",
       "    </tr>\n",
       "  </thead>\n",
       "  <tbody>\n",
       "    <tr>\n",
       "      <th>0</th>\n",
       "      <td>Collide</td>\n",
       "      <td>2016</td>\n",
       "      <td>5.7</td>\n",
       "      <td>33.0</td>\n",
       "    </tr>\n",
       "    <tr>\n",
       "      <th>1</th>\n",
       "      <td>The Heartbreak Kid</td>\n",
       "      <td>2007</td>\n",
       "      <td>5.8</td>\n",
       "      <td>46.0</td>\n",
       "    </tr>\n",
       "    <tr>\n",
       "      <th>2</th>\n",
       "      <td>American Pastoral</td>\n",
       "      <td>2016</td>\n",
       "      <td>6.1</td>\n",
       "      <td>NaN</td>\n",
       "    </tr>\n",
       "    <tr>\n",
       "      <th>3</th>\n",
       "      <td>Goosebumps</td>\n",
       "      <td>2015</td>\n",
       "      <td>6.3</td>\n",
       "      <td>60.0</td>\n",
       "    </tr>\n",
       "    <tr>\n",
       "      <th>4</th>\n",
       "      <td>Australia</td>\n",
       "      <td>2008</td>\n",
       "      <td>6.6</td>\n",
       "      <td>53.0</td>\n",
       "    </tr>\n",
       "    <tr>\n",
       "      <th>5</th>\n",
       "      <td>Les Misérables</td>\n",
       "      <td>2012</td>\n",
       "      <td>7.6</td>\n",
       "      <td>63.0</td>\n",
       "    </tr>\n",
       "    <tr>\n",
       "      <th>6</th>\n",
       "      <td>The Illusionist</td>\n",
       "      <td>2006</td>\n",
       "      <td>7.6</td>\n",
       "      <td>68.0</td>\n",
       "    </tr>\n",
       "    <tr>\n",
       "      <th>7</th>\n",
       "      <td>The Big Short</td>\n",
       "      <td>2015</td>\n",
       "      <td>7.8</td>\n",
       "      <td>81.0</td>\n",
       "    </tr>\n",
       "  </tbody>\n",
       "</table>\n",
       "</div>"
      ]
     },
     "execution_count": 23,
     "metadata": {},
     "output_type": "execute_result"
    }
   ],
   "execution_count": 23
  },
  {
   "metadata": {
    "ExecuteTime": {
     "end_time": "2025-04-03T12:24:02.725725Z",
     "start_time": "2025-04-03T12:24:02.698973Z"
    }
   },
   "cell_type": "code",
   "source": [
    "people = pd.DataFrame([['male', 25.0, 'Third'],\n",
    "       ['female', numpy.nan, 'Third'],\n",
    "       ['male', 36.0, 'Second'],\n",
    "       ['male', 47.0, 'First'],\n",
    "       ['male', numpy.nan, 'Third'],\n",
    "       ['female', 7.0, 'Second'],\n",
    "       ['male', numpy.nan, 'Third'],\n",
    "       ['male', 23.0, 'Second']], columns = [\"sex\", \"age\",\"class\"])"
   ],
   "id": "d03fc981ad53753d",
   "outputs": [],
   "execution_count": 26
  },
  {
   "metadata": {
    "ExecuteTime": {
     "end_time": "2025-04-03T12:27:41.124589Z",
     "start_time": "2025-04-03T12:27:41.111749Z"
    }
   },
   "cell_type": "code",
   "source": "people[\"age\"].mean()",
   "id": "be74f796ef1c9373",
   "outputs": [
    {
     "data": {
      "text/plain": [
       "np.float64(27.6)"
      ]
     },
     "execution_count": 28,
     "metadata": {},
     "output_type": "execute_result"
    }
   ],
   "execution_count": 28
  },
  {
   "metadata": {
    "ExecuteTime": {
     "end_time": "2025-04-03T12:28:43.885833Z",
     "start_time": "2025-04-03T12:28:43.868264Z"
    }
   },
   "cell_type": "code",
   "source": "people[\"age\"] = people[\"age\"].fillna(people[\"age\"].mean())",
   "id": "4403c2ff53b31df2",
   "outputs": [],
   "execution_count": 29
  },
  {
   "metadata": {
    "ExecuteTime": {
     "end_time": "2025-04-03T12:28:52.391635Z",
     "start_time": "2025-04-03T12:28:52.365147Z"
    }
   },
   "cell_type": "code",
   "source": "people",
   "id": "fc51f608786f720a",
   "outputs": [
    {
     "data": {
      "text/plain": [
       "      sex   age   class\n",
       "0    male  25.0   Third\n",
       "1  female  27.6   Third\n",
       "2    male  36.0  Second\n",
       "3    male  47.0   First\n",
       "4    male  27.6   Third\n",
       "5  female   7.0  Second\n",
       "6    male  27.6   Third\n",
       "7    male  23.0  Second"
      ],
      "text/html": [
       "<div>\n",
       "<style scoped>\n",
       "    .dataframe tbody tr th:only-of-type {\n",
       "        vertical-align: middle;\n",
       "    }\n",
       "\n",
       "    .dataframe tbody tr th {\n",
       "        vertical-align: top;\n",
       "    }\n",
       "\n",
       "    .dataframe thead th {\n",
       "        text-align: right;\n",
       "    }\n",
       "</style>\n",
       "<table border=\"1\" class=\"dataframe\">\n",
       "  <thead>\n",
       "    <tr style=\"text-align: right;\">\n",
       "      <th></th>\n",
       "      <th>sex</th>\n",
       "      <th>age</th>\n",
       "      <th>class</th>\n",
       "    </tr>\n",
       "  </thead>\n",
       "  <tbody>\n",
       "    <tr>\n",
       "      <th>0</th>\n",
       "      <td>male</td>\n",
       "      <td>25.0</td>\n",
       "      <td>Third</td>\n",
       "    </tr>\n",
       "    <tr>\n",
       "      <th>1</th>\n",
       "      <td>female</td>\n",
       "      <td>27.6</td>\n",
       "      <td>Third</td>\n",
       "    </tr>\n",
       "    <tr>\n",
       "      <th>2</th>\n",
       "      <td>male</td>\n",
       "      <td>36.0</td>\n",
       "      <td>Second</td>\n",
       "    </tr>\n",
       "    <tr>\n",
       "      <th>3</th>\n",
       "      <td>male</td>\n",
       "      <td>47.0</td>\n",
       "      <td>First</td>\n",
       "    </tr>\n",
       "    <tr>\n",
       "      <th>4</th>\n",
       "      <td>male</td>\n",
       "      <td>27.6</td>\n",
       "      <td>Third</td>\n",
       "    </tr>\n",
       "    <tr>\n",
       "      <th>5</th>\n",
       "      <td>female</td>\n",
       "      <td>7.0</td>\n",
       "      <td>Second</td>\n",
       "    </tr>\n",
       "    <tr>\n",
       "      <th>6</th>\n",
       "      <td>male</td>\n",
       "      <td>27.6</td>\n",
       "      <td>Third</td>\n",
       "    </tr>\n",
       "    <tr>\n",
       "      <th>7</th>\n",
       "      <td>male</td>\n",
       "      <td>23.0</td>\n",
       "      <td>Second</td>\n",
       "    </tr>\n",
       "  </tbody>\n",
       "</table>\n",
       "</div>"
      ]
     },
     "execution_count": 30,
     "metadata": {},
     "output_type": "execute_result"
    }
   ],
   "execution_count": 30
  },
  {
   "metadata": {
    "ExecuteTime": {
     "end_time": "2025-04-03T12:29:39.438412Z",
     "start_time": "2025-04-03T12:29:39.426369Z"
    }
   },
   "cell_type": "code",
   "source": [
    "data = [['man', 'Third', 25.0],\n",
    "       ['man', 'First', 27.0],\n",
    "       ['child', 'First', 0.92],\n",
    "       ['child', 'Second', 3.0],\n",
    "       ['man', 'First', 52.0],\n",
    "       ['woman', 'First', 31.0],\n",
    "       ['woman', 'First', 43.0],\n",
    "       ['woman', 'First', 30.0],\n",
    "       ['man', 'First', 36.0],\n",
    "       ['man', 'First', 40.0]]\n",
    "people = pd.DataFrame(data, columns=[\"who\", \"class\", \"age\"])"
   ],
   "id": "e522c1eb6d090c89",
   "outputs": [],
   "execution_count": 31
  },
  {
   "metadata": {
    "ExecuteTime": {
     "end_time": "2025-04-03T12:41:41.394632Z",
     "start_time": "2025-04-03T12:41:41.357212Z"
    }
   },
   "cell_type": "code",
   "source": "people.pivot_table(index=\"who\", columns= \"class\", values=\"age\", aggfunc=\"mean\")",
   "id": "6ef61a8fa2e9621b",
   "outputs": [
    {
     "data": {
      "text/plain": [
       "class      First  Second  Third\n",
       "who                            \n",
       "child   0.920000     3.0    NaN\n",
       "man    38.750000     NaN   25.0\n",
       "woman  34.666667     NaN    NaN"
      ],
      "text/html": [
       "<div>\n",
       "<style scoped>\n",
       "    .dataframe tbody tr th:only-of-type {\n",
       "        vertical-align: middle;\n",
       "    }\n",
       "\n",
       "    .dataframe tbody tr th {\n",
       "        vertical-align: top;\n",
       "    }\n",
       "\n",
       "    .dataframe thead th {\n",
       "        text-align: right;\n",
       "    }\n",
       "</style>\n",
       "<table border=\"1\" class=\"dataframe\">\n",
       "  <thead>\n",
       "    <tr style=\"text-align: right;\">\n",
       "      <th>class</th>\n",
       "      <th>First</th>\n",
       "      <th>Second</th>\n",
       "      <th>Third</th>\n",
       "    </tr>\n",
       "    <tr>\n",
       "      <th>who</th>\n",
       "      <th></th>\n",
       "      <th></th>\n",
       "      <th></th>\n",
       "    </tr>\n",
       "  </thead>\n",
       "  <tbody>\n",
       "    <tr>\n",
       "      <th>child</th>\n",
       "      <td>0.920000</td>\n",
       "      <td>3.0</td>\n",
       "      <td>NaN</td>\n",
       "    </tr>\n",
       "    <tr>\n",
       "      <th>man</th>\n",
       "      <td>38.750000</td>\n",
       "      <td>NaN</td>\n",
       "      <td>25.0</td>\n",
       "    </tr>\n",
       "    <tr>\n",
       "      <th>woman</th>\n",
       "      <td>34.666667</td>\n",
       "      <td>NaN</td>\n",
       "      <td>NaN</td>\n",
       "    </tr>\n",
       "  </tbody>\n",
       "</table>\n",
       "</div>"
      ]
     },
     "execution_count": 40,
     "metadata": {},
     "output_type": "execute_result"
    }
   ],
   "execution_count": 40
  },
  {
   "metadata": {
    "ExecuteTime": {
     "end_time": "2025-04-03T12:50:57.753010Z",
     "start_time": "2025-04-03T12:50:57.743894Z"
    }
   },
   "cell_type": "code",
   "source": [
    "people = pd.DataFrame([['female', 26.0],\n",
    "       ['female', 22.0],\n",
    "       ['female', 18.0],\n",
    "       ['male', 36.5],\n",
    "       ['male', 24.0],\n",
    "       ['male', 17.0],\n",
    "       ['female', 17.0]],\n",
    "       index = [ 148, 578, 786, 19, 499, 721, 307], columns = [\"sex\",\"age\"])\n"
   ],
   "id": "6e04e30a660ce8d0",
   "outputs": [],
   "execution_count": 59
  },
  {
   "metadata": {
    "ExecuteTime": {
     "end_time": "2025-04-03T12:50:58.638058Z",
     "start_time": "2025-04-03T12:50:58.626971Z"
    }
   },
   "cell_type": "code",
   "source": "people_sorted = people.sort_values(by=\"age\", ascending=True)",
   "id": "8afccccccf5b1f65",
   "outputs": [],
   "execution_count": 60
  },
  {
   "metadata": {
    "ExecuteTime": {
     "end_time": "2025-04-03T12:51:00.416142Z",
     "start_time": "2025-04-03T12:51:00.407064Z"
    }
   },
   "cell_type": "code",
   "source": "people_sorted = people_sorted.reset_index()",
   "id": "579c2c367f3433d0",
   "outputs": [],
   "execution_count": 61
  },
  {
   "metadata": {
    "ExecuteTime": {
     "end_time": "2025-04-03T12:51:01.407860Z",
     "start_time": "2025-04-03T12:51:01.391815Z"
    }
   },
   "cell_type": "code",
   "source": "people_sorted",
   "id": "2730745ba2d3f615",
   "outputs": [
    {
     "data": {
      "text/plain": [
       "   index     sex   age\n",
       "0    307  female  17.0\n",
       "1    721    male  17.0\n",
       "2    786  female  18.0\n",
       "3    578  female  22.0\n",
       "4    499    male  24.0\n",
       "5    148  female  26.0\n",
       "6     19    male  36.5"
      ],
      "text/html": [
       "<div>\n",
       "<style scoped>\n",
       "    .dataframe tbody tr th:only-of-type {\n",
       "        vertical-align: middle;\n",
       "    }\n",
       "\n",
       "    .dataframe tbody tr th {\n",
       "        vertical-align: top;\n",
       "    }\n",
       "\n",
       "    .dataframe thead th {\n",
       "        text-align: right;\n",
       "    }\n",
       "</style>\n",
       "<table border=\"1\" class=\"dataframe\">\n",
       "  <thead>\n",
       "    <tr style=\"text-align: right;\">\n",
       "      <th></th>\n",
       "      <th>index</th>\n",
       "      <th>sex</th>\n",
       "      <th>age</th>\n",
       "    </tr>\n",
       "  </thead>\n",
       "  <tbody>\n",
       "    <tr>\n",
       "      <th>0</th>\n",
       "      <td>307</td>\n",
       "      <td>female</td>\n",
       "      <td>17.0</td>\n",
       "    </tr>\n",
       "    <tr>\n",
       "      <th>1</th>\n",
       "      <td>721</td>\n",
       "      <td>male</td>\n",
       "      <td>17.0</td>\n",
       "    </tr>\n",
       "    <tr>\n",
       "      <th>2</th>\n",
       "      <td>786</td>\n",
       "      <td>female</td>\n",
       "      <td>18.0</td>\n",
       "    </tr>\n",
       "    <tr>\n",
       "      <th>3</th>\n",
       "      <td>578</td>\n",
       "      <td>female</td>\n",
       "      <td>22.0</td>\n",
       "    </tr>\n",
       "    <tr>\n",
       "      <th>4</th>\n",
       "      <td>499</td>\n",
       "      <td>male</td>\n",
       "      <td>24.0</td>\n",
       "    </tr>\n",
       "    <tr>\n",
       "      <th>5</th>\n",
       "      <td>148</td>\n",
       "      <td>female</td>\n",
       "      <td>26.0</td>\n",
       "    </tr>\n",
       "    <tr>\n",
       "      <th>6</th>\n",
       "      <td>19</td>\n",
       "      <td>male</td>\n",
       "      <td>36.5</td>\n",
       "    </tr>\n",
       "  </tbody>\n",
       "</table>\n",
       "</div>"
      ]
     },
     "execution_count": 62,
     "metadata": {},
     "output_type": "execute_result"
    }
   ],
   "execution_count": 62
  },
  {
   "metadata": {
    "ExecuteTime": {
     "end_time": "2025-04-03T12:55:51.262654Z",
     "start_time": "2025-04-03T12:55:51.245224Z"
    }
   },
   "cell_type": "code",
   "source": [
    "data1 = pd.DataFrame([['female', 'Second', 29.0],\n",
    "       ['male', 'First', 27.0],\n",
    "       ['male', 'Third', 6.0]], columns = [\"sex\", \"class\", \"age\"])\n",
    "data2 = pd.DataFrame([['female', 'First', 63.0, 77.9583],\n",
    "       ['male', 'Second', 1.0, 39.0],\n",
    "       ['male', 'First', 31.0, 57.0],\n",
    "       ['female', 'Second', 57.0, 10.5]], columns = [\"sex\", \"class\", \"age\", \"fare\"])"
   ],
   "id": "319169cdec48d5d3",
   "outputs": [],
   "execution_count": 80
  },
  {
   "metadata": {
    "ExecuteTime": {
     "end_time": "2025-04-03T12:56:39.304099Z",
     "start_time": "2025-04-03T12:56:39.280696Z"
    }
   },
   "cell_type": "code",
   "source": "pd.concat([data1, data2], ignore_index=True, join=\"inner\")",
   "id": "700a9af6b19ce676",
   "outputs": [
    {
     "data": {
      "text/plain": [
       "      sex   class   age\n",
       "0  female  Second  29.0\n",
       "1    male   First  27.0\n",
       "2    male   Third   6.0\n",
       "3  female   First  63.0\n",
       "4    male  Second   1.0\n",
       "5    male   First  31.0\n",
       "6  female  Second  57.0"
      ],
      "text/html": [
       "<div>\n",
       "<style scoped>\n",
       "    .dataframe tbody tr th:only-of-type {\n",
       "        vertical-align: middle;\n",
       "    }\n",
       "\n",
       "    .dataframe tbody tr th {\n",
       "        vertical-align: top;\n",
       "    }\n",
       "\n",
       "    .dataframe thead th {\n",
       "        text-align: right;\n",
       "    }\n",
       "</style>\n",
       "<table border=\"1\" class=\"dataframe\">\n",
       "  <thead>\n",
       "    <tr style=\"text-align: right;\">\n",
       "      <th></th>\n",
       "      <th>sex</th>\n",
       "      <th>class</th>\n",
       "      <th>age</th>\n",
       "    </tr>\n",
       "  </thead>\n",
       "  <tbody>\n",
       "    <tr>\n",
       "      <th>0</th>\n",
       "      <td>female</td>\n",
       "      <td>Second</td>\n",
       "      <td>29.0</td>\n",
       "    </tr>\n",
       "    <tr>\n",
       "      <th>1</th>\n",
       "      <td>male</td>\n",
       "      <td>First</td>\n",
       "      <td>27.0</td>\n",
       "    </tr>\n",
       "    <tr>\n",
       "      <th>2</th>\n",
       "      <td>male</td>\n",
       "      <td>Third</td>\n",
       "      <td>6.0</td>\n",
       "    </tr>\n",
       "    <tr>\n",
       "      <th>3</th>\n",
       "      <td>female</td>\n",
       "      <td>First</td>\n",
       "      <td>63.0</td>\n",
       "    </tr>\n",
       "    <tr>\n",
       "      <th>4</th>\n",
       "      <td>male</td>\n",
       "      <td>Second</td>\n",
       "      <td>1.0</td>\n",
       "    </tr>\n",
       "    <tr>\n",
       "      <th>5</th>\n",
       "      <td>male</td>\n",
       "      <td>First</td>\n",
       "      <td>31.0</td>\n",
       "    </tr>\n",
       "    <tr>\n",
       "      <th>6</th>\n",
       "      <td>female</td>\n",
       "      <td>Second</td>\n",
       "      <td>57.0</td>\n",
       "    </tr>\n",
       "  </tbody>\n",
       "</table>\n",
       "</div>"
      ]
     },
     "execution_count": 85,
     "metadata": {},
     "output_type": "execute_result"
    }
   ],
   "execution_count": 85
  },
  {
   "metadata": {
    "ExecuteTime": {
     "end_time": "2025-04-03T12:56:58.985054Z",
     "start_time": "2025-04-03T12:56:58.976519Z"
    }
   },
   "cell_type": "code",
   "source": [
    "data1 = pd.DataFrame([['female', 'First', 63.0, 77.9583],\n",
    "       ['male', 'Second', 1.0, 39.0],\n",
    "       ['male', 'First', 31.0, 57.0],\n",
    "       ['female', 'Second', 57.0, 10.5]], columns = [\"sex\", \"class\", \"age\", \"fare\"])\n",
    "data2 = pd.DataFrame([['female', 'Second', 29.0],\n",
    "       ['male', 'First', 27.0],\n",
    "       ['male', 'Third', 6.0]], columns = [\"sex\", \"class\", \"age\"])"
   ],
   "id": "84595b1ad0a3bc93",
   "outputs": [],
   "execution_count": 86
  },
  {
   "metadata": {
    "ExecuteTime": {
     "end_time": "2025-04-03T12:57:25.318430Z",
     "start_time": "2025-04-03T12:57:25.297461Z"
    }
   },
   "cell_type": "code",
   "source": "pd.concat([data1, data2], ignore_index=True)",
   "id": "186756b2833ef5f5",
   "outputs": [
    {
     "data": {
      "text/plain": [
       "      sex   class   age     fare\n",
       "0  female   First  63.0  77.9583\n",
       "1    male  Second   1.0  39.0000\n",
       "2    male   First  31.0  57.0000\n",
       "3  female  Second  57.0  10.5000\n",
       "4  female  Second  29.0      NaN\n",
       "5    male   First  27.0      NaN\n",
       "6    male   Third   6.0      NaN"
      ],
      "text/html": [
       "<div>\n",
       "<style scoped>\n",
       "    .dataframe tbody tr th:only-of-type {\n",
       "        vertical-align: middle;\n",
       "    }\n",
       "\n",
       "    .dataframe tbody tr th {\n",
       "        vertical-align: top;\n",
       "    }\n",
       "\n",
       "    .dataframe thead th {\n",
       "        text-align: right;\n",
       "    }\n",
       "</style>\n",
       "<table border=\"1\" class=\"dataframe\">\n",
       "  <thead>\n",
       "    <tr style=\"text-align: right;\">\n",
       "      <th></th>\n",
       "      <th>sex</th>\n",
       "      <th>class</th>\n",
       "      <th>age</th>\n",
       "      <th>fare</th>\n",
       "    </tr>\n",
       "  </thead>\n",
       "  <tbody>\n",
       "    <tr>\n",
       "      <th>0</th>\n",
       "      <td>female</td>\n",
       "      <td>First</td>\n",
       "      <td>63.0</td>\n",
       "      <td>77.9583</td>\n",
       "    </tr>\n",
       "    <tr>\n",
       "      <th>1</th>\n",
       "      <td>male</td>\n",
       "      <td>Second</td>\n",
       "      <td>1.0</td>\n",
       "      <td>39.0000</td>\n",
       "    </tr>\n",
       "    <tr>\n",
       "      <th>2</th>\n",
       "      <td>male</td>\n",
       "      <td>First</td>\n",
       "      <td>31.0</td>\n",
       "      <td>57.0000</td>\n",
       "    </tr>\n",
       "    <tr>\n",
       "      <th>3</th>\n",
       "      <td>female</td>\n",
       "      <td>Second</td>\n",
       "      <td>57.0</td>\n",
       "      <td>10.5000</td>\n",
       "    </tr>\n",
       "    <tr>\n",
       "      <th>4</th>\n",
       "      <td>female</td>\n",
       "      <td>Second</td>\n",
       "      <td>29.0</td>\n",
       "      <td>NaN</td>\n",
       "    </tr>\n",
       "    <tr>\n",
       "      <th>5</th>\n",
       "      <td>male</td>\n",
       "      <td>First</td>\n",
       "      <td>27.0</td>\n",
       "      <td>NaN</td>\n",
       "    </tr>\n",
       "    <tr>\n",
       "      <th>6</th>\n",
       "      <td>male</td>\n",
       "      <td>Third</td>\n",
       "      <td>6.0</td>\n",
       "      <td>NaN</td>\n",
       "    </tr>\n",
       "  </tbody>\n",
       "</table>\n",
       "</div>"
      ]
     },
     "execution_count": 87,
     "metadata": {},
     "output_type": "execute_result"
    }
   ],
   "execution_count": 87
  },
  {
   "metadata": {
    "ExecuteTime": {
     "end_time": "2025-04-03T13:00:12.264583Z",
     "start_time": "2025-04-03T13:00:12.241145Z"
    }
   },
   "cell_type": "code",
   "source": [
    "data = [['Adelie', 4300.0, 'Dream'],\n",
    "       ['Adelie', 3800.0, 'Torgersen'],\n",
    "       ['Chinstrap', 4450.0, 'Dream'],\n",
    "       ['Adelie', 3275.0, 'Torgersen'],\n",
    "       ['Gentoo', 4875.0, 'Biscoe'],\n",
    "       ['Gentoo', 5250.0, 'Biscoe'],\n",
    "       ['Gentoo', 5700.0, 'Biscoe'],\n",
    "       ['Chinstrap', 4100.0, 'Dream'],\n",
    "       ['Gentoo', 4600.0, 'Biscoe'],\n",
    "       ['Adelie', 4100.0, 'Dream']]\n",
    "penguins = pd.DataFrame(data, columns=[\"species\", \"body_mass\", \"island\"])"
   ],
   "id": "b962f7b21237c69e",
   "outputs": [],
   "execution_count": 94
  },
  {
   "metadata": {
    "ExecuteTime": {
     "end_time": "2025-04-03T13:00:13.288485Z",
     "start_time": "2025-04-03T13:00:13.275623Z"
    }
   },
   "cell_type": "code",
   "source": "new_penguins = penguins[\"body_mass\"] = penguins[\"body_mass\"] / 1000",
   "id": "7f55eb3ead49204a",
   "outputs": [],
   "execution_count": 95
  },
  {
   "metadata": {
    "ExecuteTime": {
     "end_time": "2025-04-03T13:01:46.683018Z",
     "start_time": "2025-04-03T13:01:46.675575Z"
    }
   },
   "cell_type": "code",
   "source": [
    "import pandas as pd\n",
    "people = pd.DataFrame([[19, 'female', numpy.nan],\n",
    "       [148, 'male', 36.5],\n",
    "       [578, 'female', numpy.nan],\n",
    "       [786, 'female', 18.0],\n",
    "       [499, 'male', 24.0],\n",
    "       [721, 'male', 17.0],\n",
    "       [307, 'female', 17.0]], columns = [\"id\", \"sex\",\"age\"])"
   ],
   "id": "1cd058d45c361e2a",
   "outputs": [],
   "execution_count": 97
  },
  {
   "metadata": {
    "ExecuteTime": {
     "end_time": "2025-04-03T13:03:35.950996Z",
     "start_time": "2025-04-03T13:03:35.934510Z"
    }
   },
   "cell_type": "code",
   "source": "people.set_index(\"id\")",
   "id": "9b1ea6cf15040c01",
   "outputs": [
    {
     "data": {
      "text/plain": [
       "        sex   age\n",
       "id               \n",
       "19   female   NaN\n",
       "148    male  36.5\n",
       "578  female   NaN\n",
       "786  female  18.0\n",
       "499    male  24.0\n",
       "721    male  17.0\n",
       "307  female  17.0"
      ],
      "text/html": [
       "<div>\n",
       "<style scoped>\n",
       "    .dataframe tbody tr th:only-of-type {\n",
       "        vertical-align: middle;\n",
       "    }\n",
       "\n",
       "    .dataframe tbody tr th {\n",
       "        vertical-align: top;\n",
       "    }\n",
       "\n",
       "    .dataframe thead th {\n",
       "        text-align: right;\n",
       "    }\n",
       "</style>\n",
       "<table border=\"1\" class=\"dataframe\">\n",
       "  <thead>\n",
       "    <tr style=\"text-align: right;\">\n",
       "      <th></th>\n",
       "      <th>sex</th>\n",
       "      <th>age</th>\n",
       "    </tr>\n",
       "    <tr>\n",
       "      <th>id</th>\n",
       "      <th></th>\n",
       "      <th></th>\n",
       "    </tr>\n",
       "  </thead>\n",
       "  <tbody>\n",
       "    <tr>\n",
       "      <th>19</th>\n",
       "      <td>female</td>\n",
       "      <td>NaN</td>\n",
       "    </tr>\n",
       "    <tr>\n",
       "      <th>148</th>\n",
       "      <td>male</td>\n",
       "      <td>36.5</td>\n",
       "    </tr>\n",
       "    <tr>\n",
       "      <th>578</th>\n",
       "      <td>female</td>\n",
       "      <td>NaN</td>\n",
       "    </tr>\n",
       "    <tr>\n",
       "      <th>786</th>\n",
       "      <td>female</td>\n",
       "      <td>18.0</td>\n",
       "    </tr>\n",
       "    <tr>\n",
       "      <th>499</th>\n",
       "      <td>male</td>\n",
       "      <td>24.0</td>\n",
       "    </tr>\n",
       "    <tr>\n",
       "      <th>721</th>\n",
       "      <td>male</td>\n",
       "      <td>17.0</td>\n",
       "    </tr>\n",
       "    <tr>\n",
       "      <th>307</th>\n",
       "      <td>female</td>\n",
       "      <td>17.0</td>\n",
       "    </tr>\n",
       "  </tbody>\n",
       "</table>\n",
       "</div>"
      ]
     },
     "execution_count": 98,
     "metadata": {},
     "output_type": "execute_result"
    }
   ],
   "execution_count": 98
  },
  {
   "metadata": {
    "ExecuteTime": {
     "end_time": "2025-04-03T13:04:33.439366Z",
     "start_time": "2025-04-03T13:04:33.429770Z"
    }
   },
   "cell_type": "code",
   "source": [
    "people = pd.DataFrame([['male', 25.0, 'Third'],\n",
    "       ['female', numpy.nan, 'Third'],\n",
    "       ['male', 36.0, 'Second'],\n",
    "       ['male', 47.0, 'First'],\n",
    "       ['male', numpy.nan, 'Third'],\n",
    "       ['male', 7.0, 'Third'],\n",
    "       ['female', 17.0, 'First'],\n",
    "       ['female', 7.0, 'Second'],\n",
    "       ['male', numpy.nan, 'Third'],\n",
    "       ['male', 23.0, 'Second']], columns = [\"sex\", \"age\",\"class\"])"
   ],
   "id": "5eba0b5199c242de",
   "outputs": [],
   "execution_count": 100
  },
  {
   "metadata": {
    "ExecuteTime": {
     "end_time": "2025-04-03T13:05:45.559782Z",
     "start_time": "2025-04-03T13:05:45.538224Z"
    }
   },
   "cell_type": "code",
   "source": "people.dropna()",
   "id": "6f7f753c1a67068",
   "outputs": [
    {
     "data": {
      "text/plain": [
       "      sex   age   class\n",
       "0    male  25.0   Third\n",
       "2    male  36.0  Second\n",
       "3    male  47.0   First\n",
       "5    male   7.0   Third\n",
       "6  female  17.0   First\n",
       "7  female   7.0  Second\n",
       "9    male  23.0  Second"
      ],
      "text/html": [
       "<div>\n",
       "<style scoped>\n",
       "    .dataframe tbody tr th:only-of-type {\n",
       "        vertical-align: middle;\n",
       "    }\n",
       "\n",
       "    .dataframe tbody tr th {\n",
       "        vertical-align: top;\n",
       "    }\n",
       "\n",
       "    .dataframe thead th {\n",
       "        text-align: right;\n",
       "    }\n",
       "</style>\n",
       "<table border=\"1\" class=\"dataframe\">\n",
       "  <thead>\n",
       "    <tr style=\"text-align: right;\">\n",
       "      <th></th>\n",
       "      <th>sex</th>\n",
       "      <th>age</th>\n",
       "      <th>class</th>\n",
       "    </tr>\n",
       "  </thead>\n",
       "  <tbody>\n",
       "    <tr>\n",
       "      <th>0</th>\n",
       "      <td>male</td>\n",
       "      <td>25.0</td>\n",
       "      <td>Third</td>\n",
       "    </tr>\n",
       "    <tr>\n",
       "      <th>2</th>\n",
       "      <td>male</td>\n",
       "      <td>36.0</td>\n",
       "      <td>Second</td>\n",
       "    </tr>\n",
       "    <tr>\n",
       "      <th>3</th>\n",
       "      <td>male</td>\n",
       "      <td>47.0</td>\n",
       "      <td>First</td>\n",
       "    </tr>\n",
       "    <tr>\n",
       "      <th>5</th>\n",
       "      <td>male</td>\n",
       "      <td>7.0</td>\n",
       "      <td>Third</td>\n",
       "    </tr>\n",
       "    <tr>\n",
       "      <th>6</th>\n",
       "      <td>female</td>\n",
       "      <td>17.0</td>\n",
       "      <td>First</td>\n",
       "    </tr>\n",
       "    <tr>\n",
       "      <th>7</th>\n",
       "      <td>female</td>\n",
       "      <td>7.0</td>\n",
       "      <td>Second</td>\n",
       "    </tr>\n",
       "    <tr>\n",
       "      <th>9</th>\n",
       "      <td>male</td>\n",
       "      <td>23.0</td>\n",
       "      <td>Second</td>\n",
       "    </tr>\n",
       "  </tbody>\n",
       "</table>\n",
       "</div>"
      ]
     },
     "execution_count": 101,
     "metadata": {},
     "output_type": "execute_result"
    }
   ],
   "execution_count": 101
  },
  {
   "metadata": {
    "ExecuteTime": {
     "end_time": "2025-04-03T13:06:38.605096Z",
     "start_time": "2025-04-03T13:06:38.587147Z"
    }
   },
   "cell_type": "code",
   "source": [
    "data = pd.DataFrame([['Escape Plan', 'Action,Crime,Mystery', 2013],\n",
    "       ['Mr. Right', 'Action,Comedy,Romance', 2015],\n",
    "       ['District 9', 'Action,Sci-Fi,Thriller', 2009],\n",
    "       [\"Don't Breathe\", 'Crime,Horror,Thriller', 2016],\n",
    "       ['The Family', 'Comedy,Crime,Thriller', 2013],\n",
    "       ['Wrecker', 'Action,Horror,Thriller', 2015]],\n",
    "        columns = [\"Title\",\"Genre\", \"Year\"])"
   ],
   "id": "2dd28682140e3816",
   "outputs": [],
   "execution_count": 102
  },
  {
   "metadata": {
    "ExecuteTime": {
     "end_time": "2025-04-03T13:07:52.228335Z",
     "start_time": "2025-04-03T13:07:52.213929Z"
    }
   },
   "cell_type": "code",
   "source": "data['Genre'].str.split(\",\")",
   "id": "6c8b0f9ad940495d",
   "outputs": [
    {
     "data": {
      "text/plain": [
       "0      [Action, Crime, Mystery]\n",
       "1     [Action, Comedy, Romance]\n",
       "2    [Action, Sci-Fi, Thriller]\n",
       "3     [Crime, Horror, Thriller]\n",
       "4     [Comedy, Crime, Thriller]\n",
       "5    [Action, Horror, Thriller]\n",
       "Name: Genre, dtype: object"
      ]
     },
     "execution_count": 103,
     "metadata": {},
     "output_type": "execute_result"
    }
   ],
   "execution_count": 103
  },
  {
   "metadata": {
    "ExecuteTime": {
     "end_time": "2025-04-03T13:11:01.835235Z",
     "start_time": "2025-04-03T13:11:01.824321Z"
    }
   },
   "cell_type": "code",
   "source": [
    "genre_count = data['Genre'].str.split(\",\").explode()\n",
    "genre_count = genre_count.value_counts()"
   ],
   "id": "fe2b3a22603c6c53",
   "outputs": [],
   "execution_count": 105
  },
  {
   "metadata": {
    "ExecuteTime": {
     "end_time": "2025-04-03T13:11:06.003387Z",
     "start_time": "2025-04-03T13:11:05.991439Z"
    }
   },
   "cell_type": "code",
   "source": "genre_count",
   "id": "7a20a4b961b8cca6",
   "outputs": [
    {
     "data": {
      "text/plain": [
       "Genre\n",
       "Action      4\n",
       "Thriller    4\n",
       "Crime       3\n",
       "Comedy      2\n",
       "Horror      2\n",
       "Mystery     1\n",
       "Sci-Fi      1\n",
       "Romance     1\n",
       "Name: count, dtype: int64"
      ]
     },
     "execution_count": 106,
     "metadata": {},
     "output_type": "execute_result"
    }
   ],
   "execution_count": 106
  },
  {
   "metadata": {
    "ExecuteTime": {
     "end_time": "2025-04-03T13:11:52.063482Z",
     "start_time": "2025-04-03T13:11:52.053099Z"
    }
   },
   "cell_type": "code",
   "source": [
    "data = [['Adelie', 4300.0, 'Dream'],\n",
    "       ['Adelie', 3800.0, 'Torgersen'],\n",
    "       ['Chinstrap', 4450.0, 'Dream'],\n",
    "       ['Adelie', 3275.0, 'Torgersen'],\n",
    "       ['Gentoo', 4875.0, 'Biscoe'],\n",
    "       ['Gentoo', 5250.0, 'Biscoe'],\n",
    "       ['Gentoo', 5700.0, 'Biscoe'],\n",
    "       ['Chinstrap', 4100.0, 'Dream'],\n",
    "       ['Gentoo', 4600.0, 'Biscoe'],\n",
    "       ['Adelie', 4100.0, 'Dream']]\n",
    "penguins = pd.DataFrame(data, columns=[\"species\", \"body_mass\", \"island\"])"
   ],
   "id": "2c6fe233c0f28344",
   "outputs": [],
   "execution_count": 107
  },
  {
   "metadata": {},
   "cell_type": "code",
   "outputs": [],
   "execution_count": null,
   "source": "",
   "id": "1aa671339eeef4fe"
  }
 ],
 "metadata": {
  "kernelspec": {
   "display_name": "Python 3",
   "language": "python",
   "name": "python3"
  },
  "language_info": {
   "codemirror_mode": {
    "name": "ipython",
    "version": 2
   },
   "file_extension": ".py",
   "mimetype": "text/x-python",
   "name": "python",
   "nbconvert_exporter": "python",
   "pygments_lexer": "ipython2",
   "version": "2.7.6"
  }
 },
 "nbformat": 4,
 "nbformat_minor": 5
}
