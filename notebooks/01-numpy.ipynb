{
  "cells": [
    {
      "cell_type": "markdown",
      "metadata": {
        "id": "view-in-github",
        "colab_type": "text"
      },
      "source": [
        "<a href=\"https://colab.research.google.com/github/vsantos03/AulasCECE/blob/main/notebooks/01-numpy.ipynb\" target=\"_parent\"><img src=\"https://colab.research.google.com/assets/colab-badge.svg\" alt=\"Open In Colab\"/></a>"
      ]
    },
    {
      "cell_type": "markdown",
      "metadata": {
        "id": "Uxzhy4huMQ0M"
      },
      "source": [
        "# NUMPY\n",
        "\n",
        "Unlike R/MATLAB, Python relies on libraries for numerics.\n",
        "\n",
        "- No builtin types for numeric computation\n",
        "- However, packages like `numpy` are _quasi-standard_"
      ]
    },
    {
      "cell_type": "markdown",
      "metadata": {
        "id": "wgWDTz8eMQ0N"
      },
      "source": [
        "## Basic array type\n",
        "\n",
        "`numpy.ndarray`, which is a multi-dimensional array of numbers."
      ]
    },
    {
      "cell_type": "code",
      "execution_count": 1,
      "metadata": {
        "id": "R0QzN8xMMQ0N",
        "outputId": "55242020-4a50-4e29-effc-db1ab8203735",
        "colab": {
          "base_uri": "https://localhost:8080/"
        }
      },
      "outputs": [
        {
          "output_type": "execute_result",
          "data": {
            "text/plain": [
              "array([ 3.,  8.,  6., 12.,  5.])"
            ]
          },
          "metadata": {},
          "execution_count": 1
        }
      ],
      "source": [
        "import numpy as np # <- import a library, like include/require in other languages\n",
        "\n",
        "v1 = np.array([3, 8, 6.0, 12, 5])\n",
        "v1"
      ]
    },
    {
      "cell_type": "code",
      "execution_count": 2,
      "metadata": {
        "id": "Tfi150xaMQ0O",
        "outputId": "bb516b5e-dc3d-40a6-cef5-dcb71ae43a81",
        "colab": {
          "base_uri": "https://localhost:8080/"
        }
      },
      "outputs": [
        {
          "output_type": "execute_result",
          "data": {
            "text/plain": [
              "numpy.ndarray"
            ]
          },
          "metadata": {},
          "execution_count": 2
        }
      ],
      "source": [
        "type(v1)"
      ]
    },
    {
      "cell_type": "markdown",
      "metadata": {
        "id": "3rzBZYHsMQ0P"
      },
      "source": [
        "indexing is quite trivial ..."
      ]
    },
    {
      "cell_type": "code",
      "execution_count": 3,
      "metadata": {
        "id": "S8Dt-VsUMQ0P",
        "outputId": "74b35749-3de9-4599-b7c7-0c3d3aba82f2",
        "colab": {
          "base_uri": "https://localhost:8080/"
        }
      },
      "outputs": [
        {
          "output_type": "stream",
          "name": "stdout",
          "text": [
            "3.0\n",
            "[3. 8.]\n",
            "5.0\n",
            "[3. 8. 6.]\n"
          ]
        }
      ],
      "source": [
        "print(v1[0])\n",
        "print(v1[0:2])\n",
        "print(v1[-1])\n",
        "print(v1[:3])"
      ]
    },
    {
      "cell_type": "code",
      "execution_count": 4,
      "metadata": {
        "id": "PLIfPcfuMQ0Q",
        "outputId": "9e5e18a6-04d2-43d5-a5b5-2c5629cdc363",
        "colab": {
          "base_uri": "https://localhost:8080/"
        }
      },
      "outputs": [
        {
          "output_type": "execute_result",
          "data": {
            "text/plain": [
              "5"
            ]
          },
          "metadata": {},
          "execution_count": 4
        }
      ],
      "source": [
        "len(v1)"
      ]
    },
    {
      "cell_type": "code",
      "execution_count": 5,
      "metadata": {
        "id": "-1WduOWUMQ0Q",
        "outputId": "5f645033-2402-416a-a195-ea1ce76f1b0a",
        "colab": {
          "base_uri": "https://localhost:8080/"
        }
      },
      "outputs": [
        {
          "output_type": "execute_result",
          "data": {
            "text/plain": [
              "(5,)"
            ]
          },
          "metadata": {},
          "execution_count": 5
        }
      ],
      "source": [
        "v1.shape"
      ]
    },
    {
      "cell_type": "markdown",
      "metadata": {
        "id": "-504JTQ5MQ0Q"
      },
      "source": [
        "A numpy array can be created by:\n",
        "- providing a list of elements\n",
        "- creating an array of zeros, or an array of ones (the resulting array contains floats by default)"
      ]
    },
    {
      "cell_type": "code",
      "execution_count": 6,
      "metadata": {
        "id": "J18WBcGcMQ0R",
        "outputId": "bd85746f-8bfe-4e80-f76d-9b592f1927d3",
        "colab": {
          "base_uri": "https://localhost:8080/"
        }
      },
      "outputs": [
        {
          "output_type": "execute_result",
          "data": {
            "text/plain": [
              "array([ 3,  8,  6, 12])"
            ]
          },
          "metadata": {},
          "execution_count": 6
        }
      ],
      "source": [
        "np.array([3, 8, 6, 12])"
      ]
    },
    {
      "cell_type": "code",
      "execution_count": 7,
      "metadata": {
        "id": "jNs5aZpLMQ0R",
        "outputId": "c5ad64da-e904-4c1e-8ec3-aeb35d093f3b",
        "colab": {
          "base_uri": "https://localhost:8080/"
        }
      },
      "outputs": [
        {
          "output_type": "execute_result",
          "data": {
            "text/plain": [
              "array([0., 0., 0., 0., 0.])"
            ]
          },
          "metadata": {},
          "execution_count": 7
        }
      ],
      "source": [
        "np.zeros(5)"
      ]
    },
    {
      "cell_type": "code",
      "execution_count": 8,
      "metadata": {
        "id": "xxkEwaX-MQ0R",
        "outputId": "13a4a3d4-57ea-4017-df6d-d8964883a78f",
        "colab": {
          "base_uri": "https://localhost:8080/"
        }
      },
      "outputs": [
        {
          "output_type": "execute_result",
          "data": {
            "text/plain": [
              "array([1., 1., 1., 1., 1.])"
            ]
          },
          "metadata": {},
          "execution_count": 8
        }
      ],
      "source": [
        "np.ones(5)"
      ]
    },
    {
      "cell_type": "markdown",
      "metadata": {
        "id": "3Gu5LDq3MQ0R"
      },
      "source": [
        "Matrices are created in a similar way:\n",
        "- by providing a list of lists\n",
        "- matrix of zeros or matrix of ones"
      ]
    },
    {
      "cell_type": "code",
      "execution_count": 9,
      "metadata": {
        "tags": [],
        "id": "91J0EHfiMQ0R",
        "outputId": "5de80516-23ba-4346-9205-fa64f8d54230",
        "colab": {
          "base_uri": "https://localhost:8080/"
        }
      },
      "outputs": [
        {
          "output_type": "execute_result",
          "data": {
            "text/plain": [
              "array([[0, 1, 2],\n",
              "       [2, 3, 4],\n",
              "       [4, 5, 6],\n",
              "       [6, 7, 8]])"
            ]
          },
          "metadata": {},
          "execution_count": 9
        }
      ],
      "source": [
        "A = np.array([\n",
        "    [0,1,2],\n",
        "    [2,3,4],\n",
        "    [4,5,6],\n",
        "    [6,7,8]])\n",
        "A"
      ]
    },
    {
      "cell_type": "code",
      "execution_count": 16,
      "metadata": {
        "id": "T_WrXc1wMQ0S",
        "outputId": "826ca894-8e50-449f-d082-59404757e8d3",
        "colab": {
          "base_uri": "https://localhost:8080/"
        }
      },
      "outputs": [
        {
          "output_type": "stream",
          "name": "stdout",
          "text": [
            "[[0. 0. 0. 0.]\n",
            " [0. 0. 0. 0.]\n",
            " [0. 0. 0. 0.]]\n"
          ]
        }
      ],
      "source": [
        "B = np.zeros([3, 4])\n",
        "print(B)"
      ]
    },
    {
      "cell_type": "code",
      "execution_count": 17,
      "metadata": {
        "id": "7keuztpzMQ0S",
        "outputId": "bb9e446b-64f1-4803-dad7-d233944af732",
        "colab": {
          "base_uri": "https://localhost:8080/"
        }
      },
      "outputs": [
        {
          "output_type": "stream",
          "name": "stdout",
          "text": [
            "[[1. 1. 1. 1.]\n",
            " [1. 1. 1. 1.]\n",
            " [1. 1. 1. 1.]]\n"
          ]
        }
      ],
      "source": [
        "C = np.ones([3, 4])\n",
        "print(C)"
      ]
    },
    {
      "cell_type": "code",
      "execution_count": 18,
      "metadata": {
        "id": "7DwB5HlTMQ0S",
        "outputId": "c1a03721-c13d-4c97-ceb7-06dfdc0fb81b",
        "colab": {
          "base_uri": "https://localhost:8080/"
        }
      },
      "outputs": [
        {
          "output_type": "execute_result",
          "data": {
            "text/plain": [
              "(4, 3)"
            ]
          },
          "metadata": {},
          "execution_count": 18
        }
      ],
      "source": [
        "A.shape"
      ]
    },
    {
      "cell_type": "code",
      "execution_count": 19,
      "metadata": {
        "id": "lnimFtYjMQ0S",
        "outputId": "9b00a0b2-7dcf-4442-b9fa-d9b8f97fda71",
        "colab": {
          "base_uri": "https://localhost:8080/"
        }
      },
      "outputs": [
        {
          "output_type": "stream",
          "name": "stdout",
          "text": [
            "0\n",
            "1\n",
            "2\n"
          ]
        }
      ],
      "source": [
        "print(A[0,0])\n",
        "print(A[0,1])\n",
        "print(A[1,0])"
      ]
    },
    {
      "cell_type": "markdown",
      "metadata": {
        "id": "nXYBTAY8MQ0T"
      },
      "source": [
        "## Why do we need numpy?\n",
        "\n",
        "Couldn't we just use lists?"
      ]
    },
    {
      "cell_type": "code",
      "execution_count": 20,
      "metadata": {
        "id": "-OIE1zOyMQ0T"
      },
      "outputs": [],
      "source": [
        "A = np.array([1,2,3])\n",
        "B = [1, 2, 3]"
      ]
    },
    {
      "cell_type": "markdown",
      "metadata": {
        "id": "_D29u8QhMQ0T"
      },
      "source": [
        "1. numpy arrays have extra numeric methods.\n",
        "2. efficiency\n",
        "3. expressiveness\n"
      ]
    },
    {
      "cell_type": "code",
      "execution_count": 21,
      "metadata": {
        "id": "jvpEv9rNMQ0T",
        "outputId": "ae109168-792e-49bc-af15-b64c5ba41113",
        "colab": {
          "base_uri": "https://localhost:8080/"
        }
      },
      "outputs": [
        {
          "output_type": "execute_result",
          "data": {
            "text/plain": [
              "array([1, 2, 3])"
            ]
          },
          "metadata": {},
          "execution_count": 21
        }
      ],
      "source": [
        "A"
      ]
    },
    {
      "cell_type": "code",
      "execution_count": 22,
      "metadata": {
        "id": "S0XzOUprMQ0T",
        "outputId": "4199b35c-8e09-4fd9-be3b-e5cf4c2009f2",
        "colab": {
          "base_uri": "https://localhost:8080/"
        }
      },
      "outputs": [
        {
          "output_type": "execute_result",
          "data": {
            "text/plain": [
              "2.0"
            ]
          },
          "metadata": {},
          "execution_count": 22
        }
      ],
      "source": [
        "A.mean()"
      ]
    },
    {
      "cell_type": "code",
      "execution_count": 23,
      "metadata": {
        "id": "PNIUMXg-MQ0U",
        "outputId": "8a45e10a-4af2-4e53-f764-3e3c9d7ad3b9",
        "colab": {
          "base_uri": "https://localhost:8080/"
        }
      },
      "outputs": [
        {
          "output_type": "execute_result",
          "data": {
            "text/plain": [
              "0.816496580927726"
            ]
          },
          "metadata": {},
          "execution_count": 23
        }
      ],
      "source": [
        "A.std()"
      ]
    },
    {
      "cell_type": "code",
      "execution_count": 24,
      "metadata": {
        "id": "lqp_bkAhMQ0U",
        "outputId": "d625d324-5579-4ea7-c240-35c540391504",
        "colab": {
          "base_uri": "https://localhost:8080/"
        }
      },
      "outputs": [
        {
          "output_type": "execute_result",
          "data": {
            "text/plain": [
              "3"
            ]
          },
          "metadata": {},
          "execution_count": 24
        }
      ],
      "source": [
        "A.max()"
      ]
    },
    {
      "cell_type": "markdown",
      "metadata": {
        "id": "vfPS0M9VMQ0U"
      },
      "source": [
        "You can also use numeric operations with arrays, they work **element-wise**:"
      ]
    },
    {
      "cell_type": "code",
      "execution_count": 25,
      "metadata": {
        "id": "MfJVoLh-MQ0U",
        "outputId": "2509ffa6-3823-40dc-8e8f-13fe08d1e9dd",
        "colab": {
          "base_uri": "https://localhost:8080/"
        }
      },
      "outputs": [
        {
          "output_type": "execute_result",
          "data": {
            "text/plain": [
              "array([1, 2, 3])"
            ]
          },
          "metadata": {},
          "execution_count": 25
        }
      ],
      "source": [
        "A"
      ]
    },
    {
      "cell_type": "code",
      "execution_count": 26,
      "metadata": {
        "id": "z7IMwfexMQ0U",
        "outputId": "55e7cb8a-3665-48ef-a0cf-574a5cdcc7cf",
        "colab": {
          "base_uri": "https://localhost:8080/"
        }
      },
      "outputs": [
        {
          "output_type": "execute_result",
          "data": {
            "text/plain": [
              "array([2, 3, 4])"
            ]
          },
          "metadata": {},
          "execution_count": 26
        }
      ],
      "source": [
        "A + 1"
      ]
    },
    {
      "cell_type": "code",
      "execution_count": 27,
      "metadata": {
        "id": "uR3Mv1v6MQ0U",
        "outputId": "8cad01ec-cadd-43cb-c4e1-ab155eef1e0a",
        "colab": {
          "base_uri": "https://localhost:8080/"
        }
      },
      "outputs": [
        {
          "output_type": "execute_result",
          "data": {
            "text/plain": [
              "array([2, 4, 6])"
            ]
          },
          "metadata": {},
          "execution_count": 27
        }
      ],
      "source": [
        "A * 2"
      ]
    },
    {
      "cell_type": "markdown",
      "metadata": {
        "id": "6RQEDm6yMQ0U"
      },
      "source": [
        "Operations with two arrays also work **element-wise**:"
      ]
    },
    {
      "cell_type": "code",
      "execution_count": 28,
      "metadata": {
        "id": "iviB6fLfMQ0U",
        "outputId": "5b929068-abb2-49f9-fe9e-89823956fe25",
        "colab": {
          "base_uri": "https://localhost:8080/"
        }
      },
      "outputs": [
        {
          "output_type": "stream",
          "name": "stdout",
          "text": [
            "[1 2 3]\n",
            "[1 1 2]\n"
          ]
        }
      ],
      "source": [
        "B = np.array([1,1,2])\n",
        "print(A)\n",
        "print(B)"
      ]
    },
    {
      "cell_type": "code",
      "execution_count": 31,
      "metadata": {
        "id": "wC9LBeBlMQ0V",
        "outputId": "6f5e3cbc-b271-4a45-8aca-c79bfcca22f5",
        "colab": {
          "base_uri": "https://localhost:8080/"
        }
      },
      "outputs": [
        {
          "output_type": "execute_result",
          "data": {
            "text/plain": [
              "array([2, 3, 5])"
            ]
          },
          "metadata": {},
          "execution_count": 31
        }
      ],
      "source": [
        "A + B"
      ]
    },
    {
      "cell_type": "code",
      "execution_count": 32,
      "metadata": {
        "id": "B6MprCdtMQ0V",
        "outputId": "7341f094-e03b-4a87-989b-2387e5311727",
        "colab": {
          "base_uri": "https://localhost:8080/"
        }
      },
      "outputs": [
        {
          "output_type": "execute_result",
          "data": {
            "text/plain": [
              "array([1, 2, 6])"
            ]
          },
          "metadata": {},
          "execution_count": 32
        }
      ],
      "source": [
        "A * B"
      ]
    },
    {
      "cell_type": "markdown",
      "metadata": {
        "id": "fkH7Hi7KMQ0V"
      },
      "source": [
        "## Matrix/vector operations"
      ]
    },
    {
      "cell_type": "code",
      "execution_count": 33,
      "metadata": {
        "id": "LIyJHrK6MQ0V",
        "outputId": "fc04e904-36a1-4b29-9880-3528311d47a5",
        "colab": {
          "base_uri": "https://localhost:8080/"
        }
      },
      "outputs": [
        {
          "output_type": "stream",
          "name": "stdout",
          "text": [
            "[4 4 3]\n"
          ]
        }
      ],
      "source": [
        "A = np.array([\n",
        "            [1,0,1],\n",
        "            [0,2,0],\n",
        "            [0,0,1]])\n",
        "B = np.array([1,2,3])\n",
        "\n",
        "print(np.dot(A, B))"
      ]
    },
    {
      "cell_type": "markdown",
      "metadata": {
        "id": "ZzVaHbTKMQ0V"
      },
      "source": [
        "## Numpy arrays can be very efficient\n"
      ]
    },
    {
      "cell_type": "markdown",
      "metadata": {
        "id": "bPWwdVj9MQ0V"
      },
      "source": [
        "## Timing measurements\n",
        "\n",
        "One simple example (using the magic command `%timeit`):"
      ]
    },
    {
      "cell_type": "code",
      "execution_count": 35,
      "metadata": {
        "id": "4K53_P2vMQ0V",
        "outputId": "c06dba20-b89b-418c-ca12-60e2cc7ead11",
        "colab": {
          "base_uri": "https://localhost:8080/"
        }
      },
      "outputs": [
        {
          "output_type": "stream",
          "name": "stdout",
          "text": [
            "7.21 µs ± 1.1 µs per loop (mean ± std. dev. of 7 runs, 100000 loops each)\n"
          ]
        }
      ],
      "source": [
        "a = list(range(1024))\n",
        "%timeit sum(a)"
      ]
    },
    {
      "cell_type": "code",
      "execution_count": 36,
      "metadata": {
        "id": "KmKqthBoMQ0V",
        "outputId": "0ac648b5-94a9-47de-8478-49f8a0d062c0",
        "colab": {
          "base_uri": "https://localhost:8080/"
        }
      },
      "outputs": [
        {
          "output_type": "stream",
          "name": "stdout",
          "text": [
            "2 µs ± 271 ns per loop (mean ± std. dev. of 7 runs, 1000000 loops each)\n"
          ]
        }
      ],
      "source": [
        "b = np.arange(1024)\n",
        "%timeit b.sum()"
      ]
    },
    {
      "cell_type": "markdown",
      "metadata": {
        "id": "_lhJsneBMQ0Z"
      },
      "source": [
        "Actually, not that big of a difference, but the difference gets larger for larger arrays and more complex operations:"
      ]
    },
    {
      "cell_type": "code",
      "execution_count": 37,
      "metadata": {
        "id": "uyrXsRb9MQ0a",
        "outputId": "2b7adb1b-8a4e-430f-ad23-2d4b48c88778",
        "colab": {
          "base_uri": "https://localhost:8080/"
        }
      },
      "outputs": [
        {
          "output_type": "stream",
          "name": "stdout",
          "text": [
            "82.2 ms ± 24.7 ms per loop (mean ± std. dev. of 7 runs, 10 loops each)\n"
          ]
        }
      ],
      "source": [
        "a = list(range(1024*1024))\n",
        "%timeit sum(v*v for v in a)"
      ]
    },
    {
      "cell_type": "code",
      "execution_count": 38,
      "metadata": {
        "id": "ZyLTDD5FMQ0a",
        "outputId": "8f0642b4-b837-4bf1-b30b-cc7af1047852",
        "colab": {
          "base_uri": "https://localhost:8080/"
        }
      },
      "outputs": [
        {
          "output_type": "stream",
          "name": "stdout",
          "text": [
            "1.23 ms ± 24.6 µs per loop (mean ± std. dev. of 7 runs, 1000 loops each)\n"
          ]
        }
      ],
      "source": [
        "b = np.arange(1024*1024)\n",
        "%timeit (b**2).sum()"
      ]
    },
    {
      "cell_type": "markdown",
      "metadata": {
        "id": "s3TG6naNMQ0a"
      },
      "source": [
        "Now, it starts to matter."
      ]
    },
    {
      "cell_type": "markdown",
      "metadata": {
        "id": "2lPwDzfCMQ0a"
      },
      "source": [
        "## Numpy arrays are *homogeneous*\n",
        "\n",
        "- All members of an array have the same type\n",
        "- Either integer or floating pooint\n",
        "- Defined **when you first create the array**"
      ]
    },
    {
      "cell_type": "code",
      "execution_count": 39,
      "metadata": {
        "id": "iCxnawiKMQ0a",
        "outputId": "b9a78d85-0e5f-46bf-e274-a437ef0ce07a",
        "colab": {
          "base_uri": "https://localhost:8080/"
        }
      },
      "outputs": [
        {
          "output_type": "execute_result",
          "data": {
            "text/plain": [
              "dtype('int64')"
            ]
          },
          "metadata": {},
          "execution_count": 39
        }
      ],
      "source": [
        "A = np.array([0, 1, 2]) # <- IMPLICIT TYPE\n",
        "A.dtype"
      ]
    },
    {
      "cell_type": "code",
      "execution_count": 40,
      "metadata": {
        "id": "Gv882127MQ0a",
        "outputId": "da416b9d-91a7-489f-a312-ed1704a42cbe",
        "colab": {
          "base_uri": "https://localhost:8080/"
        }
      },
      "outputs": [
        {
          "output_type": "execute_result",
          "data": {
            "text/plain": [
              "dtype('float64')"
            ]
          },
          "metadata": {},
          "execution_count": 40
        }
      ],
      "source": [
        "B = np.array([0.5, 1.1, 2.1])\n",
        "B.dtype"
      ]
    },
    {
      "cell_type": "code",
      "execution_count": 41,
      "metadata": {
        "id": "Lts-7n6xMQ0a",
        "outputId": "59bf246b-5a2f-4602-f805-8a50db4e2055",
        "colab": {
          "base_uri": "https://localhost:8080/"
        }
      },
      "outputs": [
        {
          "output_type": "execute_result",
          "data": {
            "text/plain": [
              "dtype('float64')"
            ]
          },
          "metadata": {},
          "execution_count": 41
        }
      ],
      "source": [
        "C = np.array([0, 1, 2], dtype=np.float64) # <- EXPLICIT TYPE\n",
        "C.dtype"
      ]
    },
    {
      "cell_type": "markdown",
      "metadata": {
        "id": "ohfaG_x6MQ0b"
      },
      "source": [
        "Besides the speed, it is also more expressive."
      ]
    },
    {
      "cell_type": "markdown",
      "metadata": {
        "id": "bZkWlKU3MQ0b"
      },
      "source": [
        "## Numpy data types\n",
        "\n",
        "- `np.int8`, `np.int16`, `np.int32`, `np.int64`\n",
        "- `np.uint8`, `np.uint16`, `np.uint32`, `np.uint64`\n",
        "- `np.float32`, `np.float64`, `np.float16`, (and, sometimes, `np.float128`)\n",
        "- `np.bool`\n",
        "\n",
        "Note that these can over/underflow:"
      ]
    },
    {
      "cell_type": "code",
      "execution_count": 42,
      "metadata": {
        "id": "_f5yTrHwMQ0b",
        "outputId": "2afe69e2-b504-422d-981d-4f717ee29118",
        "colab": {
          "base_uri": "https://localhost:8080/"
        }
      },
      "outputs": [
        {
          "output_type": "execute_result",
          "data": {
            "text/plain": [
              "array([247, 248, 249], dtype=uint8)"
            ]
          },
          "metadata": {},
          "execution_count": 42
        }
      ],
      "source": [
        "A = np.array([1,2,3], np.uint8)\n",
        "A - 10"
      ]
    },
    {
      "cell_type": "markdown",
      "metadata": {
        "id": "sqMTfhZkMQ0b"
      },
      "source": [
        "## Reduce along axis operations\n",
        "\n",
        "If you have a multidimensional array, you can reduce it along one of its axis:"
      ]
    },
    {
      "cell_type": "code",
      "execution_count": 43,
      "metadata": {
        "id": "45UN-wXaMQ0b"
      },
      "outputs": [],
      "source": [
        "A = np.array([\n",
        "    [0,0,1],\n",
        "    [1,2,3],\n",
        "    [2,4,2],\n",
        "    [1,0,1]])"
      ]
    },
    {
      "cell_type": "code",
      "execution_count": 44,
      "metadata": {
        "id": "ZZ8MxpnAMQ0b",
        "outputId": "e5f16996-5637-4418-dcd2-d633a43af556",
        "colab": {
          "base_uri": "https://localhost:8080/"
        }
      },
      "outputs": [
        {
          "output_type": "execute_result",
          "data": {
            "text/plain": [
              "array([2, 4, 3])"
            ]
          },
          "metadata": {},
          "execution_count": 44
        }
      ],
      "source": [
        "A.max(axis=0)"
      ]
    },
    {
      "cell_type": "code",
      "execution_count": 45,
      "metadata": {
        "id": "uc4z3cU8MQ0b",
        "outputId": "85efc1db-4ab3-49b0-9b03-f4149fb1183b",
        "colab": {
          "base_uri": "https://localhost:8080/"
        }
      },
      "outputs": [
        {
          "output_type": "execute_result",
          "data": {
            "text/plain": [
              "array([1, 3, 4, 1])"
            ]
          },
          "metadata": {},
          "execution_count": 45
        }
      ],
      "source": [
        "A.max(axis=1)"
      ]
    },
    {
      "cell_type": "code",
      "execution_count": 46,
      "metadata": {
        "id": "GDJhcF7iMQ0b",
        "outputId": "4192f61f-6f3a-4de5-87ef-843a4655e255",
        "colab": {
          "base_uri": "https://localhost:8080/"
        }
      },
      "outputs": [
        {
          "output_type": "execute_result",
          "data": {
            "text/plain": [
              "array([1.  , 1.5 , 1.75])"
            ]
          },
          "metadata": {},
          "execution_count": 46
        }
      ],
      "source": [
        "A.mean(axis=0)"
      ]
    },
    {
      "cell_type": "markdown",
      "metadata": {
        "id": "to2_mOmXMQ0b"
      },
      "source": [
        "## Slicing"
      ]
    },
    {
      "cell_type": "code",
      "execution_count": 55,
      "metadata": {
        "id": "OLCRDTWSMQ0b",
        "outputId": "2d63dacf-e225-4280-9c96-bfdda017f972",
        "colab": {
          "base_uri": "https://localhost:8080/"
        }
      },
      "outputs": [
        {
          "output_type": "execute_result",
          "data": {
            "text/plain": [
              "(4, 3)"
            ]
          },
          "metadata": {},
          "execution_count": 55
        }
      ],
      "source": [
        "A = np.array([\n",
        "    [0,1,2],\n",
        "    [2,3,4],\n",
        "    [4,5,6],\n",
        "    [6,7,8]])\n",
        "\n",
        "A.shape"
      ]
    },
    {
      "cell_type": "code",
      "execution_count": 48,
      "metadata": {
        "id": "bN0P2nkcMQ0c",
        "outputId": "b8a5bf8e-03c3-4f13-ca43-626b139ef4bb",
        "colab": {
          "base_uri": "https://localhost:8080/"
        }
      },
      "outputs": [
        {
          "output_type": "execute_result",
          "data": {
            "text/plain": [
              "array([0, 1, 2])"
            ]
          },
          "metadata": {},
          "execution_count": 48
        }
      ],
      "source": [
        "A[0]"
      ]
    },
    {
      "cell_type": "code",
      "execution_count": 49,
      "metadata": {
        "id": "sbkM7FhnMQ0c",
        "outputId": "3654f9dc-98dc-4cb4-9708-776da48116a0",
        "colab": {
          "base_uri": "https://localhost:8080/"
        }
      },
      "outputs": [
        {
          "output_type": "execute_result",
          "data": {
            "text/plain": [
              "(3,)"
            ]
          },
          "metadata": {},
          "execution_count": 49
        }
      ],
      "source": [
        "A[0].shape"
      ]
    },
    {
      "cell_type": "code",
      "execution_count": 50,
      "metadata": {
        "id": "A3tndgTHMQ0c",
        "outputId": "9dc511d9-2ed6-45e8-80cb-40e97f9b12eb",
        "colab": {
          "base_uri": "https://localhost:8080/"
        }
      },
      "outputs": [
        {
          "output_type": "execute_result",
          "data": {
            "text/plain": [
              "array([2, 3, 4])"
            ]
          },
          "metadata": {},
          "execution_count": 50
        }
      ],
      "source": [
        "A[1]"
      ]
    },
    {
      "cell_type": "code",
      "execution_count": null,
      "metadata": {
        "id": "Io1nuFeaMQ0c",
        "outputId": "a7074b5b-7ab4-470f-9de0-c98fbb4a8c14"
      },
      "outputs": [
        {
          "data": {
            "text/plain": [
              "array([2, 4, 6, 8])"
            ]
          },
          "execution_count": 45,
          "metadata": {},
          "output_type": "execute_result"
        }
      ],
      "source": [
        "A[:,2]"
      ]
    },
    {
      "cell_type": "markdown",
      "metadata": {
        "id": "RziI-WA5MQ0c"
      },
      "source": [
        "## Slices share memory!\n",
        "\n",
        "A slice is a *view* into another array:"
      ]
    },
    {
      "cell_type": "code",
      "execution_count": 56,
      "metadata": {
        "id": "snWw6mE9MQ0c",
        "outputId": "d4c953ba-560e-4d48-d3c7-c83beb296822",
        "colab": {
          "base_uri": "https://localhost:8080/"
        }
      },
      "outputs": [
        {
          "output_type": "execute_result",
          "data": {
            "text/plain": [
              "array([[0, 1, 2],\n",
              "       [2, 3, 4],\n",
              "       [4, 5, 6],\n",
              "       [6, 7, 8]])"
            ]
          },
          "metadata": {},
          "execution_count": 56
        }
      ],
      "source": [
        "A"
      ]
    },
    {
      "cell_type": "code",
      "execution_count": 57,
      "metadata": {
        "id": "6ZBZosR-MQ0c",
        "outputId": "85487dfb-ab5b-4b6b-a0df-ef9504536790",
        "colab": {
          "base_uri": "https://localhost:8080/"
        }
      },
      "outputs": [
        {
          "output_type": "execute_result",
          "data": {
            "text/plain": [
              "array([[-1,  1,  2],\n",
              "       [ 2,  3,  4],\n",
              "       [ 4,  5,  6],\n",
              "       [ 6,  7,  8]])"
            ]
          },
          "metadata": {},
          "execution_count": 57
        }
      ],
      "source": [
        "B = A[0]\n",
        "B[0] = -1\n",
        "A"
      ]
    },
    {
      "cell_type": "markdown",
      "metadata": {
        "id": "b9ebc4F5MQ0c"
      },
      "source": [
        "## Argument passing is by reference"
      ]
    },
    {
      "cell_type": "code",
      "execution_count": 58,
      "metadata": {
        "id": "hKez0r5mMQ0c",
        "outputId": "570f9b0b-cd21-4edc-a405-63f9f1f7da08",
        "colab": {
          "base_uri": "https://localhost:8080/"
        }
      },
      "outputs": [
        {
          "output_type": "stream",
          "name": "stdout",
          "text": [
            "[ 0  2  4  6  8 10 12 14 16 18 20 22 24 26 28]\n"
          ]
        }
      ],
      "source": [
        "def double_array(A):\n",
        "    A *= 2\n",
        "\n",
        "\n",
        "A = np.arange(15)\n",
        "double_array(A)\n",
        "print(A)"
      ]
    },
    {
      "cell_type": "markdown",
      "metadata": {
        "id": "27sa7LnEMQ0c"
      },
      "source": [
        "You need to be careful, but you can always make a copy:"
      ]
    },
    {
      "cell_type": "code",
      "execution_count": 59,
      "metadata": {
        "id": "PfwtmJigMQ0d",
        "outputId": "f8063c30-846d-4c85-9966-ce4a8c23fd14",
        "colab": {
          "base_uri": "https://localhost:8080/"
        }
      },
      "outputs": [
        {
          "output_type": "stream",
          "name": "stdout",
          "text": [
            "[ 0  1  2  3  4  5  6  7  8  9 10 11 12 13 14]\n",
            "[ 0  2  4  6  8 10 12 14 16 18]\n"
          ]
        }
      ],
      "source": [
        "A = np.arange(15)\n",
        "B = A[0:10].copy()\n",
        "double_array(B)\n",
        "print(A)\n",
        "print(B)"
      ]
    },
    {
      "cell_type": "markdown",
      "metadata": {
        "id": "RrcKsCZuMQ0d"
      },
      "source": [
        "## Logical Arrays\n",
        "\n",
        "Arrays of booleans:"
      ]
    },
    {
      "cell_type": "code",
      "execution_count": 60,
      "metadata": {
        "id": "WcO68z8QMQ0d",
        "outputId": "a36847fa-0d3e-44e6-ed59-dd4b55cb6549",
        "colab": {
          "base_uri": "https://localhost:8080/"
        }
      },
      "outputs": [
        {
          "output_type": "execute_result",
          "data": {
            "text/plain": [
              "array([False, False,  True,  True, False,  True,  True, False])"
            ]
          },
          "metadata": {},
          "execution_count": 60
        }
      ],
      "source": [
        "A = np.array([-1, 0, 1, 2, -2, 3, 4, -2])\n",
        "A > 0"
      ]
    },
    {
      "cell_type": "code",
      "execution_count": 61,
      "metadata": {
        "id": "B5C_COrHMQ0d",
        "outputId": "8fb2818c-ca93-41fb-cbf4-4d3f44df8ff0",
        "colab": {
          "base_uri": "https://localhost:8080/"
        }
      },
      "outputs": [
        {
          "output_type": "execute_result",
          "data": {
            "text/plain": [
              "array([False, False,  True,  True, False, False, False, False])"
            ]
          },
          "metadata": {},
          "execution_count": 61
        }
      ],
      "source": [
        "(A > 0) & (A < 3)"
      ]
    },
    {
      "cell_type": "markdown",
      "metadata": {
        "id": "h6pbIRuyMQ0d"
      },
      "source": [
        "## Logical indexing"
      ]
    },
    {
      "cell_type": "code",
      "execution_count": 62,
      "metadata": {
        "id": "uM4tEHV7MQ0d",
        "outputId": "848a2f7c-4ffe-43c9-c55a-86bcc9761d07",
        "colab": {
          "base_uri": "https://localhost:8080/"
        }
      },
      "outputs": [
        {
          "output_type": "execute_result",
          "data": {
            "text/plain": [
              "array([0, 0, 1, 2, 0, 3, 4, 0])"
            ]
          },
          "metadata": {},
          "execution_count": 62
        }
      ],
      "source": [
        "A[A < 0] = 0\n",
        "A"
      ]
    },
    {
      "cell_type": "markdown",
      "metadata": {
        "id": "sKpZq-aOMQ0d"
      },
      "source": [
        "## Some helper functions"
      ]
    },
    {
      "cell_type": "code",
      "execution_count": 63,
      "metadata": {
        "id": "tis7VfGUMQ0d",
        "outputId": "d5d4e244-880b-4d14-cf1d-42bd1c0d96fd",
        "colab": {
          "base_uri": "https://localhost:8080/"
        }
      },
      "outputs": [
        {
          "output_type": "execute_result",
          "data": {
            "text/plain": [
              "array([[0., 0., 0., 0., 0., 0., 0., 0., 0., 0.],\n",
              "       [0., 0., 0., 0., 0., 0., 0., 0., 0., 0.],\n",
              "       [0., 0., 0., 0., 0., 0., 0., 0., 0., 0.],\n",
              "       [0., 0., 0., 0., 0., 0., 0., 0., 0., 0.]])"
            ]
          },
          "metadata": {},
          "execution_count": 63
        }
      ],
      "source": [
        "np.zeros((4,10))"
      ]
    },
    {
      "cell_type": "code",
      "execution_count": 64,
      "metadata": {
        "id": "nF5z8c_gMQ0d",
        "outputId": "5cf73aed-d981-4bd7-f770-200343a28f67",
        "colab": {
          "base_uri": "https://localhost:8080/"
        }
      },
      "outputs": [
        {
          "output_type": "execute_result",
          "data": {
            "text/plain": [
              "array([1., 1., 1., 1., 1., 1., 1., 1., 1., 1.])"
            ]
          },
          "metadata": {},
          "execution_count": 64
        }
      ],
      "source": [
        "np.ones(10)"
      ]
    },
    {
      "cell_type": "code",
      "execution_count": 65,
      "metadata": {
        "id": "2mV5juh3MQ0d",
        "outputId": "3ae14999-5267-42c0-9a0e-6565ea2b3242",
        "colab": {
          "base_uri": "https://localhost:8080/"
        }
      },
      "outputs": [
        {
          "output_type": "execute_result",
          "data": {
            "text/plain": [
              "array([0, 0, 0, 0, 0])"
            ]
          },
          "metadata": {},
          "execution_count": 65
        }
      ],
      "source": [
        "A = np.array([1, 2, 3, 4, 5])\n",
        "B = np.zeros_like(A)\n",
        "B"
      ]
    },
    {
      "cell_type": "code",
      "execution_count": null,
      "metadata": {
        "id": "s0QYiUjbMQ0f"
      },
      "outputs": [],
      "source": []
    }
  ],
  "metadata": {
    "celltoolbar": "Slideshow",
    "kernelspec": {
      "display_name": "Python 3",
      "language": "python",
      "name": "python3"
    },
    "language_info": {
      "codemirror_mode": {
        "name": "ipython",
        "version": 3
      },
      "file_extension": ".py",
      "mimetype": "text/x-python",
      "name": "python",
      "nbconvert_exporter": "python",
      "pygments_lexer": "ipython3",
      "version": "3.8.10"
    },
    "rise": {
      "scroll": true
    },
    "toc-autonumbering": false,
    "toc-showtags": false,
    "colab": {
      "provenance": [],
      "include_colab_link": true
    }
  },
  "nbformat": 4,
  "nbformat_minor": 0
}