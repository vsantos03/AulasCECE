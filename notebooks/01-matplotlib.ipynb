{
  "cells": [
    {
      "cell_type": "markdown",
      "metadata": {
        "id": "view-in-github",
        "colab_type": "text"
      },
      "source": [
        "<a href=\"https://colab.research.google.com/github/vsantos03/AulasCECE/blob/main/notebooks/01-matplotlib.ipynb\" target=\"_parent\"><img src=\"https://colab.research.google.com/assets/colab-badge.svg\" alt=\"Open In Colab\"/></a>"
      ]
    },
    {
      "cell_type": "markdown",
      "metadata": {
        "id": "2ogonO1LxL8o"
      },
      "source": [
        "# Matplotlib\n",
        "\n",
        "- Matplotlib is a plotting library.\n",
        "- Very flexible.\n",
        "- Very active project.\n"
      ]
    },
    {
      "cell_type": "code",
      "execution_count": 4,
      "metadata": {
        "colab": {
          "base_uri": "https://localhost:8080/",
          "height": 447
        },
        "id": "0lTiKvmfxL8q",
        "outputId": "cb714515-d358-4553-a7c6-8a078e7eb629"
      },
      "outputs": [
        {
          "output_type": "execute_result",
          "data": {
            "text/plain": [
              "[<matplotlib.lines.Line2D at 0x7a9ab80d9bd0>]"
            ]
          },
          "metadata": {},
          "execution_count": 4
        },
        {
          "output_type": "display_data",
          "data": {
            "text/plain": [
              "<Figure size 640x480 with 1 Axes>"
            ],
            "image/png": "[encoded data removed]"
          },
          "metadata": {}
        }
      ],
      "source": [
        "import numpy as np\n",
        "import matplotlib.pyplot as plt\n",
        "from matplotlib import style\n",
        "style.use('default')\n",
        "\n",
        "X = np.linspace(-4, 4, 1000)\n",
        "plt.plot(X, X**2*np.cos(X**2))"
      ]
    },
    {
      "cell_type": "markdown",
      "metadata": {
        "id": "n3dGGBgexL8s"
      },
      "source": [
        "You don't see the plot?\n",
        "\n",
        "Try using a magic command:"
      ]
    },
    {
      "cell_type": "code",
      "execution_count": 3,
      "metadata": {
        "id": "gzcVaii7xL8t"
      },
      "outputs": [],
      "source": [
        "%matplotlib inline"
      ]
    },
    {
      "cell_type": "markdown",
      "metadata": {
        "id": "ORlXxO1zxL8t"
      },
      "source": [
        "## Interactive exploration\n",
        "\n",
        "An excellent feature of the notebooks"
      ]
    },
    {
      "cell_type": "code",
      "execution_count": 5,
      "metadata": {
        "colab": {
          "base_uri": "https://localhost:8080/",
          "height": 462,
          "referenced_widgets": [
            "45d4db8d4e6f43f5b6fb3d5c8c7197c1",
            "e730129dabd14e98bbae15ffe8032778",
            "6283403364d54621affbb418e840b014",
            "ca47c2b37f6e4ed8a3793a38194b0a0e",
            "dd5aa924f138403099fe67b0e912c141",
            "3182c655148b4c7db5c86475de9eb5f8",
            "65cd11e187994a77a0b19f4eb4b920dd"
          ]
        },
        "id": "lgTdcVFsxL8t",
        "outputId": "45310e74-a92d-4f2c-9a0b-f15c5039d4e6"
      },
      "outputs": [
        {
          "output_type": "display_data",
          "data": {
            "text/plain": [
              "interactive(children=(IntSlider(value=5, description='power', max=10, min=1), Output()), _dom_classes=('widget…"
            ],
            "application/vnd.jupyter.widget-view+json": {
              "version_major": 2,
              "version_minor": 0,
              "model_id": "45d4db8d4e6f43f5b6fb3d5c8c7197c1"
            }
          },
          "metadata": {}
        }
      ],
      "source": [
        "from ipywidgets import interact\n",
        "\n",
        "@interact(power=(1,10))\n",
        "def plot_cos(power):\n",
        "    X = np.linspace(-4, 4, 1000)\n",
        "    plt.plot(X, X**power*np.cos(X**power))"
      ]
    },
    {
      "cell_type": "markdown",
      "metadata": {
        "id": "rUBx7TuKxL8t"
      },
      "source": [
        "## Interactive exploration\n",
        "\n",
        "- You can do complicated things with complicated code, but 95% of the time, the simple ones work\n",
        "- bools -> checkbox\n",
        "- int/floats -> slider\n",
        "- dict -> selectbox"
      ]
    },
    {
      "cell_type": "code",
      "execution_count": 6,
      "metadata": {
        "colab": {
          "base_uri": "https://localhost:8080/",
          "height": 526,
          "referenced_widgets": [
            "24c2b25b06564b84a9fe36285a343614",
            "b0195635a4fc4b73a05e0f383c07860a",
            "7435a34c57284988908057dc11b9d7a4",
            "2c07bbf9c477456a8c0a823a0892798c",
            "9349e9296baa419b8bf1cfb271aa1953",
            "80103c7bb45e41be800fefd90543626c",
            "32d337805f1d426f9d2bca053b397765",
            "b1d8fa26642d427caf3db928329e6f27",
            "b0d10c45f33441a292d7540f410fc390",
            "dc1095a5acaf4a9cbc9624de6da5d489",
            "c220eeef1fce482dac9bd0df684d4d6c",
            "4d8108686325425d88bec96f2949a78f",
            "cf6d8dc756ab430391f087c211f68f3f"
          ]
        },
        "id": "RKK0A2PVxL8u",
        "outputId": "f3425b3e-48f2-4072-aa49-5e6185b14676"
      },
      "outputs": [
        {
          "output_type": "display_data",
          "data": {
            "text/plain": [
              "interactive(children=(IntSlider(value=2, description='power', max=4, min=1), Dropdown(description='function', …"
            ],
            "application/vnd.jupyter.widget-view+json": {
              "version_major": 2,
              "version_minor": 0,
              "model_id": "24c2b25b06564b84a9fe36285a343614"
            }
          },
          "metadata": {}
        }
      ],
      "source": [
        "@interact(power=(1,4), function={'sin' : np.sin, 'cos': np.cos}, multiply=True)\n",
        "def plot_cos_more(power, function, multiply):\n",
        "    X = np.linspace(-4, 4, 1000)\n",
        "    Y = function(X**power)\n",
        "    if multiply:\n",
        "        Y *= X**power\n",
        "    plt.plot(X, Y)"
      ]
    },
    {
      "cell_type": "code",
      "execution_count": null,
      "metadata": {
        "id": "JDiEWwclxL8u"
      },
      "outputs": [],
      "source": []
    }
  ],
  "metadata": {
    "celltoolbar": "Slideshow",
    "kernelspec": {
      "display_name": "Python 3",
      "language": "python",
      "name": "python3"
    },
    "language_info": {
      "codemirror_mode": {
        "name": "ipython",
        "version": 3
      },
      "file_extension": ".py",
      "mimetype": "text/x-python",
      "name": "python",
      "nbconvert_exporter": "python",
      "pygments_lexer": "ipython3",
      "version": "3.8.10"
    },
    "rise": {
      "scroll": true
    },
    "toc-autonumbering": false,
    "toc-showtags": false,
    "widgets": {
      "application/vnd.jupyter.widget-state+json": {
        "45d4db8d4e6f43f5b6fb3d5c8c7197c1": {
          "model_module": "@jupyter-widgets/controls",
          "model_name": "VBoxModel",
          "model_module_version": "1.5.0",
          "state": {
            "_dom_classes": [
              "widget-interact"
            ],
            "_model_module": "@jupyter-widgets/controls",
            "_model_module_version": "1.5.0",
            "_model_name": "VBoxModel",
            "_view_count": null,
            "_view_module": "@jupyter-widgets/controls",
            "_view_module_version": "1.5.0",
            "_view_name": "VBoxView",
            "box_style": "",
            "children": [
              "IPY_MODEL_e730129dabd14e98bbae15ffe8032778",
              "IPY_MODEL_6283403364d54621affbb418e840b014"
            ],
            "layout": "IPY_MODEL_ca47c2b37f6e4ed8a3793a38194b0a0e"
          }
        },
        "e730129dabd14e98bbae15ffe8032778": {
          "model_module": "@jupyter-widgets/controls",
          "model_name": "IntSliderModel",
          "model_module_version": "1.5.0",
          "state": {
            "_dom_classes": [],
            "_model_module": "@jupyter-widgets/controls",
            "_model_module_version": "1.5.0",
            "_model_name": "IntSliderModel",
            "_view_count": null,
            "_view_module": "@jupyter-widgets/controls",
            "_view_module_version": "1.5.0",
            "_view_name": "IntSliderView",
            "continuous_update": true,
            "description": "power",
            "description_tooltip": null,
            "disabled": false,
            "layout": "IPY_MODEL_dd5aa924f138403099fe67b0e912c141",
            "max": 10,
            "min": 1,
            "orientation": "horizontal",
            "readout": true,
            "readout_format": "d",
            "step": 1,
            "style": "IPY_MODEL_3182c655148b4c7db5c86475de9eb5f8",
            "value": 5
          }
        },
        "6283403364d54621affbb418e840b014": {
          "model_module": "@jupyter-widgets/output",
          "model_name": "OutputModel",
          "model_module_version": "1.0.0",
          "state": {
            "_dom_classes": [],
            "_model_module": "@jupyter-widgets/output",
            "_model_module_version": "1.0.0",
            "_model_name": "OutputModel",
            "_view_count": null,
            "_view_module": "@jupyter-widgets/output",
            "_view_module_version": "1.0.0",
            "_view_name": "OutputView",
            "layout": "IPY_MODEL_65cd11e187994a77a0b19f4eb4b920dd",
            "msg_id": "",
            "outputs": [
              {
                "output_type": "display_data",
                "data": {
                  "text/plain": "<Figure size 640x480 with 1 Axes>",
                  "image/png": "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\n"
                },
                "metadata": {}
              }
            ]
          }
        },
        "ca47c2b37f6e4ed8a3793a38194b0a0e": {
          "model_module": "@jupyter-widgets/base",
          "model_name": "LayoutModel",
          "model_module_version": "1.2.0",
          "state": {
            "_model_module": "@jupyter-widgets/base",
            "_model_module_version": "1.2.0",
            "_model_name": "LayoutModel",
            "_view_count": null,
            "_view_module": "@jupyter-widgets/base",
            "_view_module_version": "1.2.0",
            "_view_name": "LayoutView",
            "align_content": null,
            "align_items": null,
            "align_self": null,
            "border": null,
            "bottom": null,
            "display": null,
            "flex": null,
            "flex_flow": null,
            "grid_area": null,
            "grid_auto_columns": null,
            "grid_auto_flow": null,
            "grid_auto_rows": null,
            "grid_column": null,
            "grid_gap": null,
            "grid_row": null,
            "grid_template_areas": null,
            "grid_template_columns": null,
            "grid_template_rows": null,
            "height": null,
            "justify_content": null,
            "justify_items": null,
            "left": null,
            "margin": null,
            "max_height": null,
            "max_width": null,
            "min_height": null,
            "min_width": null,
            "object_fit": null,
            "object_position": null,
            "order": null,
            "overflow": null,
            "overflow_x": null,
            "overflow_y": null,
            "padding": null,
            "right": null,
            "top": null,
            "visibility": null,
            "width": null
          }
        },
        "dd5aa924f138403099fe67b0e912c141": {
          "model_module": "@jupyter-widgets/base",
          "model_name": "LayoutModel",
          "model_module_version": "1.2.0",
          "state": {
            "_model_module": "@jupyter-widgets/base",
            "_model_module_version": "1.2.0",
            "_model_name": "LayoutModel",
            "_view_count": null,
            "_view_module": "@jupyter-widgets/base",
            "_view_module_version": "1.2.0",
            "_view_name": "LayoutView",
            "align_content": null,
            "align_items": null,
            "align_self": null,
            "border": null,
            "bottom": null,
            "display": null,
            "flex": null,
            "flex_flow": null,
            "grid_area": null,
            "grid_auto_columns": null,
            "grid_auto_flow": null,
            "grid_auto_rows": null,
            "grid_column": null,
            "grid_gap": null,
            "grid_row": null,
            "grid_template_areas": null,
            "grid_template_columns": null,
            "grid_template_rows": null,
            "height": null,
            "justify_content": null,
            "justify_items": null,
            "left": null,
            "margin": null,
            "max_height": null,
            "max_width": null,
            "min_height": null,
            "min_width": null,
            "object_fit": null,
            "object_position": null,
            "order": null,
            "overflow": null,
            "overflow_x": null,
            "overflow_y": null,
            "padding": null,
            "right": null,
            "top": null,
            "visibility": null,
            "width": null
          }
        },
        "3182c655148b4c7db5c86475de9eb5f8": {
          "model_module": "@jupyter-widgets/controls",
          "model_name": "SliderStyleModel",
          "model_module_version": "1.5.0",
          "state": {
            "_model_module": "@jupyter-widgets/controls",
            "_model_module_version": "1.5.0",
            "_model_name": "SliderStyleModel",
            "_view_count": null,
            "_view_module": "@jupyter-widgets/base",
            "_view_module_version": "1.2.0",
            "_view_name": "StyleView",
            "description_width": "",
            "handle_color": null
          }
        },
        "65cd11e187994a77a0b19f4eb4b920dd": {
          "model_module": "@jupyter-widgets/base",
          "model_name": "LayoutModel",
          "model_module_version": "1.2.0",
          "state": {
            "_model_module": "@jupyter-widgets/base",
            "_model_module_version": "1.2.0",
            "_model_name": "LayoutModel",
            "_view_count": null,
            "_view_module": "@jupyter-widgets/base",
            "_view_module_version": "1.2.0",
            "_view_name": "LayoutView",
            "align_content": null,
            "align_items": null,
            "align_self": null,
            "border": null,
            "bottom": null,
            "display": null,
            "flex": null,
            "flex_flow": null,
            "grid_area": null,
            "grid_auto_columns": null,
            "grid_auto_flow": null,
            "grid_auto_rows": null,
            "grid_column": null,
            "grid_gap": null,
            "grid_row": null,
            "grid_template_areas": null,
            "grid_template_columns": null,
            "grid_template_rows": null,
            "height": null,
            "justify_content": null,
            "justify_items": null,
            "left": null,
            "margin": null,
            "max_height": null,
            "max_width": null,
            "min_height": null,
            "min_width": null,
            "object_fit": null,
            "object_position": null,
            "order": null,
            "overflow": null,
            "overflow_x": null,
            "overflow_y": null,
            "padding": null,
            "right": null,
            "top": null,
            "visibility": null,
            "width": null
          }
        },
        "24c2b25b06564b84a9fe36285a343614": {
          "model_module": "@jupyter-widgets/controls",
          "model_name": "VBoxModel",
          "model_module_version": "1.5.0",
          "state": {
            "_dom_classes": [
              "widget-interact"
            ],
            "_model_module": "@jupyter-widgets/controls",
            "_model_module_version": "1.5.0",
            "_model_name": "VBoxModel",
            "_view_count": null,
            "_view_module": "@jupyter-widgets/controls",
            "_view_module_version": "1.5.0",
            "_view_name": "VBoxView",
            "box_style": "",
            "children": [
              "IPY_MODEL_b0195635a4fc4b73a05e0f383c07860a",
              "IPY_MODEL_7435a34c57284988908057dc11b9d7a4",
              "IPY_MODEL_2c07bbf9c477456a8c0a823a0892798c",
              "IPY_MODEL_9349e9296baa419b8bf1cfb271aa1953"
            ],
            "layout": "IPY_MODEL_80103c7bb45e41be800fefd90543626c"
          }
        },
        "b0195635a4fc4b73a05e0f383c07860a": {
          "model_module": "@jupyter-widgets/controls",
          "model_name": "IntSliderModel",
          "model_module_version": "1.5.0",
          "state": {
            "_dom_classes": [],
            "_model_module": "@jupyter-widgets/controls",
            "_model_module_version": "1.5.0",
            "_model_name": "IntSliderModel",
            "_view_count": null,
            "_view_module": "@jupyter-widgets/controls",
            "_view_module_version": "1.5.0",
            "_view_name": "IntSliderView",
            "continuous_update": true,
            "description": "power",
            "description_tooltip": null,
            "disabled": false,
            "layout": "IPY_MODEL_32d337805f1d426f9d2bca053b397765",
            "max": 4,
            "min": 1,
            "orientation": "horizontal",
            "readout": true,
            "readout_format": "d",
            "step": 1,
            "style": "IPY_MODEL_b1d8fa26642d427caf3db928329e6f27",
            "value": 2
          }
        },
        "7435a34c57284988908057dc11b9d7a4": {
          "model_module": "@jupyter-widgets/controls",
          "model_name": "DropdownModel",
          "model_module_version": "1.5.0",
          "state": {
            "_dom_classes": [],
            "_model_module": "@jupyter-widgets/controls",
            "_model_module_version": "1.5.0",
            "_model_name": "DropdownModel",
            "_options_labels": [
              "sin",
              "cos"
            ],
            "_view_count": null,
            "_view_module": "@jupyter-widgets/controls",
            "_view_module_version": "1.5.0",
            "_view_name": "DropdownView",
            "description": "function",
            "description_tooltip": null,
            "disabled": false,
            "index": 0,
            "layout": "IPY_MODEL_b0d10c45f33441a292d7540f410fc390",
            "style": "IPY_MODEL_dc1095a5acaf4a9cbc9624de6da5d489"
          }
        },
        "2c07bbf9c477456a8c0a823a0892798c": {
          "model_module": "@jupyter-widgets/controls",
          "model_name": "CheckboxModel",
          "model_module_version": "1.5.0",
          "state": {
            "_dom_classes": [],
            "_model_module": "@jupyter-widgets/controls",
            "_model_module_version": "1.5.0",
            "_model_name": "CheckboxModel",
            "_view_count": null,
            "_view_module": "@jupyter-widgets/controls",
            "_view_module_version": "1.5.0",
            "_view_name": "CheckboxView",
            "description": "multiply",
            "description_tooltip": null,
            "disabled": false,
            "indent": true,
            "layout": "IPY_MODEL_c220eeef1fce482dac9bd0df684d4d6c",
            "style": "IPY_MODEL_4d8108686325425d88bec96f2949a78f",
            "value": true
          }
        },
        "9349e9296baa419b8bf1cfb271aa1953": {
          "model_module": "@jupyter-widgets/output",
          "model_name": "OutputModel",
          "model_module_version": "1.0.0",
          "state": {
            "_dom_classes": [],
            "_model_module": "@jupyter-widgets/output",
            "_model_module_version": "1.0.0",
            "_model_name": "OutputModel",
            "_view_count": null,
            "_view_module": "@jupyter-widgets/output",
            "_view_module_version": "1.0.0",
            "_view_name": "OutputView",
            "layout": "IPY_MODEL_cf6d8dc756ab430391f087c211f68f3f",
            "msg_id": "",
            "outputs": [
              {
                "output_type": "display_data",
                "data": {
                  "text/plain": "<Figure size 640x480 with 1 Axes>",
                  "image/png": "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\n"
                },
                "metadata": {}
              }
            ]
          }
        },
        "80103c7bb45e41be800fefd90543626c": {
          "model_module": "@jupyter-widgets/base",
          "model_name": "LayoutModel",
          "model_module_version": "1.2.0",
          "state": {
            "_model_module": "@jupyter-widgets/base",
            "_model_module_version": "1.2.0",
            "_model_name": "LayoutModel",
            "_view_count": null,
            "_view_module": "@jupyter-widgets/base",
            "_view_module_version": "1.2.0",
            "_view_name": "LayoutView",
            "align_content": null,
            "align_items": null,
            "align_self": null,
            "border": null,
            "bottom": null,
            "display": null,
            "flex": null,
            "flex_flow": null,
            "grid_area": null,
            "grid_auto_columns": null,
            "grid_auto_flow": null,
            "grid_auto_rows": null,
            "grid_column": null,
            "grid_gap": null,
            "grid_row": null,
            "grid_template_areas": null,
            "grid_template_columns": null,
            "grid_template_rows": null,
            "height": null,
            "justify_content": null,
            "justify_items": null,
            "left": null,
            "margin": null,
            "max_height": null,
            "max_width": null,
            "min_height": null,
            "min_width": null,
            "object_fit": null,
            "object_position": null,
            "order": null,
            "overflow": null,
            "overflow_x": null,
            "overflow_y": null,
            "padding": null,
            "right": null,
            "top": null,
            "visibility": null,
            "width": null
          }
        },
        "32d337805f1d426f9d2bca053b397765": {
          "model_module": "@jupyter-widgets/base",
          "model_name": "LayoutModel",
          "model_module_version": "1.2.0",
          "state": {
            "_model_module": "@jupyter-widgets/base",
            "_model_module_version": "1.2.0",
            "_model_name": "LayoutModel",
            "_view_count": null,
            "_view_module": "@jupyter-widgets/base",
            "_view_module_version": "1.2.0",
            "_view_name": "LayoutView",
            "align_content": null,
            "align_items": null,
            "align_self": null,
            "border": null,
            "bottom": null,
            "display": null,
            "flex": null,
            "flex_flow": null,
            "grid_area": null,
            "grid_auto_columns": null,
            "grid_auto_flow": null,
            "grid_auto_rows": null,
            "grid_column": null,
            "grid_gap": null,
            "grid_row": null,
            "grid_template_areas": null,
            "grid_template_columns": null,
            "grid_template_rows": null,
            "height": null,
            "justify_content": null,
            "justify_items": null,
            "left": null,
            "margin": null,
            "max_height": null,
            "max_width": null,
            "min_height": null,
            "min_width": null,
            "object_fit": null,
            "object_position": null,
            "order": null,
            "overflow": null,
            "overflow_x": null,
            "overflow_y": null,
            "padding": null,
            "right": null,
            "top": null,
            "visibility": null,
            "width": null
          }
        },
        "b1d8fa26642d427caf3db928329e6f27": {
          "model_module": "@jupyter-widgets/controls",
          "model_name": "SliderStyleModel",
          "model_module_version": "1.5.0",
          "state": {
            "_model_module": "@jupyter-widgets/controls",
            "_model_module_version": "1.5.0",
            "_model_name": "SliderStyleModel",
            "_view_count": null,
            "_view_module": "@jupyter-widgets/base",
            "_view_module_version": "1.2.0",
            "_view_name": "StyleView",
            "description_width": "",
            "handle_color": null
          }
        },
        "b0d10c45f33441a292d7540f410fc390": {
          "model_module": "@jupyter-widgets/base",
          "model_name": "LayoutModel",
          "model_module_version": "1.2.0",
          "state": {
            "_model_module": "@jupyter-widgets/base",
            "_model_module_version": "1.2.0",
            "_model_name": "LayoutModel",
            "_view_count": null,
            "_view_module": "@jupyter-widgets/base",
            "_view_module_version": "1.2.0",
            "_view_name": "LayoutView",
            "align_content": null,
            "align_items": null,
            "align_self": null,
            "border": null,
            "bottom": null,
            "display": null,
            "flex": null,
            "flex_flow": null,
            "grid_area": null,
            "grid_auto_columns": null,
            "grid_auto_flow": null,
            "grid_auto_rows": null,
            "grid_column": null,
            "grid_gap": null,
            "grid_row": null,
            "grid_template_areas": null,
            "grid_template_columns": null,
            "grid_template_rows": null,
            "height": null,
            "justify_content": null,
            "justify_items": null,
            "left": null,
            "margin": null,
            "max_height": null,
            "max_width": null,
            "min_height": null,
            "min_width": null,
            "object_fit": null,
            "object_position": null,
            "order": null,
            "overflow": null,
            "overflow_x": null,
            "overflow_y": null,
            "padding": null,
            "right": null,
            "top": null,
            "visibility": null,
            "width": null
          }
        },
        "dc1095a5acaf4a9cbc9624de6da5d489": {
          "model_module": "@jupyter-widgets/controls",
          "model_name": "DescriptionStyleModel",
          "model_module_version": "1.5.0",
          "state": {
            "_model_module": "@jupyter-widgets/controls",
            "_model_module_version": "1.5.0",
            "_model_name": "DescriptionStyleModel",
            "_view_count": null,
            "_view_module": "@jupyter-widgets/base",
            "_view_module_version": "1.2.0",
            "_view_name": "StyleView",
            "description_width": ""
          }
        },
        "c220eeef1fce482dac9bd0df684d4d6c": {
          "model_module": "@jupyter-widgets/base",
          "model_name": "LayoutModel",
          "model_module_version": "1.2.0",
          "state": {
            "_model_module": "@jupyter-widgets/base",
            "_model_module_version": "1.2.0",
            "_model_name": "LayoutModel",
            "_view_count": null,
            "_view_module": "@jupyter-widgets/base",
            "_view_module_version": "1.2.0",
            "_view_name": "LayoutView",
            "align_content": null,
            "align_items": null,
            "align_self": null,
            "border": null,
            "bottom": null,
            "display": null,
            "flex": null,
            "flex_flow": null,
            "grid_area": null,
            "grid_auto_columns": null,
            "grid_auto_flow": null,
            "grid_auto_rows": null,
            "grid_column": null,
            "grid_gap": null,
            "grid_row": null,
            "grid_template_areas": null,
            "grid_template_columns": null,
            "grid_template_rows": null,
            "height": null,
            "justify_content": null,
            "justify_items": null,
            "left": null,
            "margin": null,
            "max_height": null,
            "max_width": null,
            "min_height": null,
            "min_width": null,
            "object_fit": null,
            "object_position": null,
            "order": null,
            "overflow": null,
            "overflow_x": null,
            "overflow_y": null,
            "padding": null,
            "right": null,
            "top": null,
            "visibility": null,
            "width": null
          }
        },
        "4d8108686325425d88bec96f2949a78f": {
          "model_module": "@jupyter-widgets/controls",
          "model_name": "DescriptionStyleModel",
          "model_module_version": "1.5.0",
          "state": {
            "_model_module": "@jupyter-widgets/controls",
            "_model_module_version": "1.5.0",
            "_model_name": "DescriptionStyleModel",
            "_view_count": null,
            "_view_module": "@jupyter-widgets/base",
            "_view_module_version": "1.2.0",
            "_view_name": "StyleView",
            "description_width": ""
          }
        },
        "cf6d8dc756ab430391f087c211f68f3f": {
          "model_module": "@jupyter-widgets/base",
          "model_name": "LayoutModel",
          "model_module_version": "1.2.0",
          "state": {
            "_model_module": "@jupyter-widgets/base",
            "_model_module_version": "1.2.0",
            "_model_name": "LayoutModel",
            "_view_count": null,
            "_view_module": "@jupyter-widgets/base",
            "_view_module_version": "1.2.0",
            "_view_name": "LayoutView",
            "align_content": null,
            "align_items": null,
            "align_self": null,
            "border": null,
            "bottom": null,
            "display": null,
            "flex": null,
            "flex_flow": null,
            "grid_area": null,
            "grid_auto_columns": null,
            "grid_auto_flow": null,
            "grid_auto_rows": null,
            "grid_column": null,
            "grid_gap": null,
            "grid_row": null,
            "grid_template_areas": null,
            "grid_template_columns": null,
            "grid_template_rows": null,
            "height": null,
            "justify_content": null,
            "justify_items": null,
            "left": null,
            "margin": null,
            "max_height": null,
            "max_width": null,
            "min_height": null,
            "min_width": null,
            "object_fit": null,
            "object_position": null,
            "order": null,
            "overflow": null,
            "overflow_x": null,
            "overflow_y": null,
            "padding": null,
            "right": null,
            "top": null,
            "visibility": null,
            "width": null
          }
        }
      }
    },
    "colab": {
      "provenance": [],
      "include_colab_link": true
    }
  },
  "nbformat": 4,
  "nbformat_minor": 0
}