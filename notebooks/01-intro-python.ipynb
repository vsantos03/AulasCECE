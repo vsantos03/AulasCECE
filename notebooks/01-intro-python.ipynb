{
  "cells": [
    {
      "cell_type": "markdown",
      "metadata": {
        "id": "view-in-github",
        "colab_type": "text"
      },
      "source": [
        "<a href=\"https://colab.research.google.com/github/vsantos03/AulasCECE/blob/main/notebooks/01-intro-python.ipynb\" target=\"_parent\"><img src=\"https://colab.research.google.com/assets/colab-badge.svg\" alt=\"Open In Colab\"/></a>"
      ]
    },
    {
      "cell_type": "markdown",
      "metadata": {
        "id": "cQHiNirCEb4k"
      },
      "source": [
        "\n",
        "# Introduction to Python\n",
        "\n",
        "Adapted from [Python Introduction](https://github.com/luispedro/talk-python-intro) by Luis Pedro Coelho"
      ]
    },
    {
      "cell_type": "markdown",
      "metadata": {
        "id": "zTDOcM0LEb4n"
      },
      "source": [
        "## Python Language History\n",
        "\n",
        "- Python was started in the late 80's.\n",
        "- It was intended to be both _easy to teach_ and _industrial strength_.\n",
        "- It is (has always been) open-source.\n",
        "- It has become one of the most widely used languages (top 10).\n"
      ]
    },
    {
      "cell_type": "markdown",
      "metadata": {
        "id": "ZzT8zGrtEb4n"
      },
      "source": [
        "## Python Example"
      ]
    },
    {
      "cell_type": "code",
      "execution_count": 1,
      "metadata": {
        "id": "RQnSVmydEb4o",
        "outputId": "55b392b3-83a3-47ea-bd0c-e4437f9fb2f7",
        "colab": {
          "base_uri": "https://localhost:8080/"
        }
      },
      "outputs": [
        {
          "output_type": "stream",
          "name": "stdout",
          "text": [
            "Hello World\n"
          ]
        }
      ],
      "source": [
        "print(\"Hello World\")"
      ]
    },
    {
      "cell_type": "markdown",
      "metadata": {
        "id": "9CBwyVDyEb4o"
      },
      "source": [
        "## A more complicated example"
      ]
    },
    {
      "cell_type": "code",
      "execution_count": 2,
      "metadata": {
        "id": "7Pq2htxJEb4p",
        "outputId": "bbb0bfd4-843b-4333-a680-c69ae1de2ba8",
        "colab": {
          "base_uri": "https://localhost:8080/"
        }
      },
      "outputs": [
        {
          "output_type": "stream",
          "name": "stdout",
          "text": [
            "14.0\n"
          ]
        }
      ],
      "source": [
        "numbers = [10, 7, 22, 14, 17]\n",
        "\n",
        "total = 0.0\n",
        "n = 0.0\n",
        "for val in numbers:\n",
        "    total = total + val\n",
        "    n = n + 1\n",
        "print(total / n)"
      ]
    },
    {
      "cell_type": "markdown",
      "metadata": {
        "id": "5ntZyJEgEb4p"
      },
      "source": [
        "\"Python is executable pseudo-code.\"\n",
        "\n",
        "        — Python lore (often attributed to Bruce Eckel)"
      ]
    },
    {
      "cell_type": "markdown",
      "metadata": {
        "id": "nDMhMFhMEb4p"
      },
      "source": [
        "## Using the notebook\n",
        "\n",
        "Cells of code & text.\n",
        "\n",
        "There is a **single context** and it changes _as you execute cells_."
      ]
    },
    {
      "cell_type": "code",
      "execution_count": 3,
      "metadata": {
        "id": "CW4AWZlbEb4q"
      },
      "outputs": [],
      "source": [
        "a = 1"
      ]
    },
    {
      "cell_type": "code",
      "execution_count": 4,
      "metadata": {
        "id": "F6yUEMbFEb4q",
        "outputId": "dc9b703f-90fd-4e1c-c40f-f5b0eb55d50f",
        "colab": {
          "base_uri": "https://localhost:8080/"
        }
      },
      "outputs": [
        {
          "output_type": "stream",
          "name": "stdout",
          "text": [
            "1\n"
          ]
        }
      ],
      "source": [
        "print(a)"
      ]
    },
    {
      "cell_type": "code",
      "execution_count": 5,
      "metadata": {
        "id": "7boz5bIYEb4q",
        "outputId": "90aefe82-ceb7-4e9a-d3de-78ca5787deb4",
        "colab": {
          "base_uri": "https://localhost:8080/"
        }
      },
      "outputs": [
        {
          "output_type": "execute_result",
          "data": {
            "text/plain": [
              "1"
            ]
          },
          "metadata": {},
          "execution_count": 5
        }
      ],
      "source": [
        "a"
      ]
    },
    {
      "cell_type": "code",
      "execution_count": 6,
      "metadata": {
        "id": "ft50vzOEEb4q"
      },
      "outputs": [],
      "source": [
        "a = 2"
      ]
    },
    {
      "cell_type": "markdown",
      "metadata": {
        "id": "VKqBi2AREb4q"
      },
      "source": [
        "When you really get confused, restart everything."
      ]
    },
    {
      "cell_type": "markdown",
      "metadata": {
        "id": "ugnuWUB9Eb4q"
      },
      "source": [
        "# Python types\n",
        "\n",
        "## Basic types\n",
        "\n",
        "- Numbers (integers and floating point)\n",
        "- Booleans (True, False)\n",
        "- Strings\n",
        "- Lists and tuples\n",
        "- Dictionaries and sets"
      ]
    },
    {
      "cell_type": "markdown",
      "metadata": {
        "id": "zK_gwnrLEb4q"
      },
      "source": [
        "## Numbers\n",
        "### Integers"
      ]
    },
    {
      "cell_type": "code",
      "execution_count": 7,
      "metadata": {
        "id": "3i4dZdMrEb4r",
        "outputId": "d9317626-9eea-4719-8a5c-fcbce7b99fe2",
        "colab": {
          "base_uri": "https://localhost:8080/"
        }
      },
      "outputs": [
        {
          "output_type": "execute_result",
          "data": {
            "text/plain": [
              "7"
            ]
          },
          "metadata": {},
          "execution_count": 7
        }
      ],
      "source": [
        "a = 1\n",
        "b = 2\n",
        "c = 3\n",
        "a + b * c"
      ]
    },
    {
      "cell_type": "markdown",
      "metadata": {
        "id": "epBhPSYZEb4r"
      },
      "source": [
        "### Floats"
      ]
    },
    {
      "cell_type": "code",
      "execution_count": 8,
      "metadata": {
        "id": "mhQto1HbEb4r",
        "outputId": "27cf940c-1f7c-4941-cf4f-efc69904645c",
        "colab": {
          "base_uri": "https://localhost:8080/"
        }
      },
      "outputs": [
        {
          "output_type": "execute_result",
          "data": {
            "text/plain": [
              "9.84"
            ]
          },
          "metadata": {},
          "execution_count": 8
        }
      ],
      "source": [
        "a = 1.2\n",
        "b = 2.4\n",
        "c = 3.6\n",
        "\n",
        "a + b *c"
      ]
    },
    {
      "cell_type": "markdown",
      "metadata": {
        "id": "rjLBTEbWEb4r"
      },
      "source": [
        "### Mixing Integers & Floats\n",
        "\n",
        "When you mix, it all gets converted to floats:"
      ]
    },
    {
      "cell_type": "code",
      "execution_count": 9,
      "metadata": {
        "tags": [],
        "id": "zsZ9xEqqEb4r",
        "outputId": "176a6b79-029b-4ecb-a1e3-11fa479fc3ac",
        "colab": {
          "base_uri": "https://localhost:8080/"
        }
      },
      "outputs": [
        {
          "output_type": "execute_result",
          "data": {
            "text/plain": [
              "13.0"
            ]
          },
          "metadata": {},
          "execution_count": 9
        }
      ],
      "source": [
        "a = 2\n",
        "b = 2.5\n",
        "c = 4.4\n",
        "\n",
        "a + b*c"
      ]
    },
    {
      "cell_type": "markdown",
      "metadata": {
        "id": "7In2CGTeEb4r"
      },
      "source": [
        "### Converting between types"
      ]
    },
    {
      "cell_type": "code",
      "execution_count": 10,
      "metadata": {
        "id": "kGZBHr9SEb4r",
        "outputId": "cfaca870-3f25-42d7-ac57-c8ef42961a12",
        "colab": {
          "base_uri": "https://localhost:8080/"
        }
      },
      "outputs": [
        {
          "output_type": "execute_result",
          "data": {
            "text/plain": [
              "7"
            ]
          },
          "metadata": {},
          "execution_count": 10
        }
      ],
      "source": [
        "int(7.3)"
      ]
    },
    {
      "cell_type": "markdown",
      "metadata": {
        "id": "lKEpP9dBEb4r"
      },
      "source": [
        "note that this is just truncating and not rounding the number"
      ]
    },
    {
      "cell_type": "code",
      "execution_count": 11,
      "metadata": {
        "id": "sz8s-FjdEb4r",
        "outputId": "8427af39-67d6-4337-aabc-a64c62e59082",
        "colab": {
          "base_uri": "https://localhost:8080/"
        }
      },
      "outputs": [
        {
          "output_type": "execute_result",
          "data": {
            "text/plain": [
              "7"
            ]
          },
          "metadata": {},
          "execution_count": 11
        }
      ],
      "source": [
        "int(7.8)"
      ]
    },
    {
      "cell_type": "code",
      "execution_count": 12,
      "metadata": {
        "id": "fgtvGDE6Eb4r",
        "outputId": "8f03b0d1-1372-419b-d5bf-ff62f5a5610f",
        "colab": {
          "base_uri": "https://localhost:8080/"
        }
      },
      "outputs": [
        {
          "output_type": "execute_result",
          "data": {
            "text/plain": [
              "8.0"
            ]
          },
          "metadata": {},
          "execution_count": 12
        }
      ],
      "source": [
        "float(8)"
      ]
    },
    {
      "cell_type": "markdown",
      "metadata": {
        "id": "wQP7FYKQEb4r"
      },
      "source": [
        "### Operations\n",
        "\n",
        "- Addition: `a + b`\n",
        "- Subtraction: `a - b`\n",
        "- Multiplication: `a * b`\n",
        "- Exponentiation: `a ** b`\n",
        "- Unary Minus: `-a`\n"
      ]
    },
    {
      "cell_type": "markdown",
      "metadata": {
        "id": "au6YJrofEb4r"
      },
      "source": [
        "What about division?\n",
        "\n",
        "What is 9 divided by 3?"
      ]
    },
    {
      "cell_type": "code",
      "source": [
        "9 / 3"
      ],
      "metadata": {
        "id": "QDa7j-23GoSG",
        "outputId": "d9c1f0e7-e19a-41fd-acdf-318388122b3a",
        "colab": {
          "base_uri": "https://localhost:8080/"
        }
      },
      "execution_count": 13,
      "outputs": [
        {
          "output_type": "execute_result",
          "data": {
            "text/plain": [
              "3.0"
            ]
          },
          "metadata": {},
          "execution_count": 13
        }
      ]
    },
    {
      "cell_type": "markdown",
      "metadata": {
        "id": "YLXz_AQ2Eb4r"
      },
      "source": [
        "What is 10 divided by 3?"
      ]
    },
    {
      "cell_type": "code",
      "source": [
        "10/3"
      ],
      "metadata": {
        "id": "Fl2u9dZlG5R7",
        "outputId": "770b8bde-bfd3-44d3-9696-ae8108cc1b9e",
        "colab": {
          "base_uri": "https://localhost:8080/"
        }
      },
      "execution_count": 14,
      "outputs": [
        {
          "output_type": "execute_result",
          "data": {
            "text/plain": [
              "3.3333333333333335"
            ]
          },
          "metadata": {},
          "execution_count": 14
        }
      ]
    },
    {
      "cell_type": "markdown",
      "metadata": {
        "id": "s9qJnTh_Eb4s"
      },
      "source": [
        "### Two types of division\n",
        "\n",
        "- floating point division: `a / b`\n",
        "- integer division: `a // b`\n",
        "- remainder of the integer division: `a % b`"
      ]
    },
    {
      "cell_type": "code",
      "execution_count": 15,
      "metadata": {
        "id": "szs1EjwCEb4s",
        "outputId": "859f6a9d-9ebb-4ac6-d867-3698647f368f",
        "colab": {
          "base_uri": "https://localhost:8080/"
        }
      },
      "outputs": [
        {
          "output_type": "stream",
          "name": "stdout",
          "text": [
            "3.3333333333333335\n",
            "3\n",
            "1\n"
          ]
        }
      ],
      "source": [
        "a = 10\n",
        "b = 3\n",
        "\n",
        "print(a / b)\n",
        "print(a // b)\n",
        "print(a % b)"
      ]
    },
    {
      "cell_type": "code",
      "execution_count": 16,
      "metadata": {
        "id": "Q3_gCVWeEb4s",
        "outputId": "38200934-14b3-4647-97a8-d9aa42d0b61f",
        "colab": {
          "base_uri": "https://localhost:8080/"
        }
      },
      "outputs": [
        {
          "output_type": "execute_result",
          "data": {
            "text/plain": [
              "3.3333333333333335"
            ]
          },
          "metadata": {},
          "execution_count": 16
        }
      ],
      "source": [
        "a / float(b)"
      ]
    },
    {
      "cell_type": "markdown",
      "metadata": {
        "id": "zaisRk2mEb4s"
      },
      "source": [
        "## Strings"
      ]
    },
    {
      "cell_type": "code",
      "execution_count": 17,
      "metadata": {
        "id": "bQP79-5MEb4s",
        "outputId": "acfc36bc-728c-408f-9b01-46a1805f9688",
        "colab": {
          "base_uri": "https://localhost:8080/",
          "height": 36
        }
      },
      "outputs": [
        {
          "output_type": "execute_result",
          "data": {
            "text/plain": [
              "'John Doe'"
            ],
            "application/vnd.google.colaboratory.intrinsic+json": {
              "type": "string"
            }
          },
          "metadata": {},
          "execution_count": 17
        }
      ],
      "source": [
        "first = 'John'\n",
        "last = \"Doe\"\n",
        "full = first + \" \" + last\n",
        "\n",
        "full"
      ]
    },
    {
      "cell_type": "markdown",
      "metadata": {
        "id": "4FlHtrV4Eb4s"
      },
      "source": [
        "We can easily obtain individual chars or substrings"
      ]
    },
    {
      "cell_type": "code",
      "execution_count": 18,
      "metadata": {
        "id": "2-jn-KaCEb4s",
        "outputId": "6595df45-07dc-40ad-d96b-9d144c655fa6",
        "colab": {
          "base_uri": "https://localhost:8080/"
        }
      },
      "outputs": [
        {
          "output_type": "stream",
          "name": "stdout",
          "text": [
            "J\n",
            "Joh\n",
            "e\n",
            "oe\n"
          ]
        }
      ],
      "source": [
        "print(full[0])      # gets the first char\n",
        "print(full[0:3])    # gets chars from 0 to 2\n",
        "print(full[-1])     # gets the last char\n",
        "print(full[-2:])    # gets the last 2 chars"
      ]
    },
    {
      "cell_type": "markdown",
      "metadata": {
        "id": "oFBXTBHOEb4s"
      },
      "source": [
        "### More about `strings`\n",
        "\n",
        "- strings are immutable objects. It means that you can't change a string, you can only create a new one\n",
        "- they already have a set of pre-defined methods\n",
        "    - We call a method with the `<object>.<method>()` syntax"
      ]
    },
    {
      "cell_type": "code",
      "execution_count": 19,
      "metadata": {
        "id": "tkLc2Au5Eb4s"
      },
      "outputs": [],
      "source": [
        "name = \"Mary Poppins\""
      ]
    },
    {
      "cell_type": "code",
      "execution_count": 20,
      "metadata": {
        "id": "ovxq5B-yEb4s",
        "outputId": "c7621f94-f095-4772-c19e-fe261be871d8",
        "colab": {
          "base_uri": "https://localhost:8080/"
        }
      },
      "outputs": [
        {
          "output_type": "execute_result",
          "data": {
            "text/plain": [
              "True"
            ]
          },
          "metadata": {},
          "execution_count": 20
        }
      ],
      "source": [
        "\"Pop\" in name"
      ]
    },
    {
      "cell_type": "markdown",
      "metadata": {
        "id": "sb46ldGfEb4s"
      },
      "source": [
        "the `len` function can be applied to strings, lists, dictionaries, arrays, etc..."
      ]
    },
    {
      "cell_type": "code",
      "execution_count": 22,
      "metadata": {
        "id": "tAM6o3ZUEb4x",
        "outputId": "4a614fe4-2ec4-4f2c-833b-122bdc84a6d1",
        "colab": {
          "base_uri": "https://localhost:8080/"
        }
      },
      "outputs": [
        {
          "output_type": "execute_result",
          "data": {
            "text/plain": [
              "12"
            ]
          },
          "metadata": {},
          "execution_count": 22
        }
      ],
      "source": [
        "len(name)"
      ]
    },
    {
      "cell_type": "code",
      "execution_count": 23,
      "metadata": {
        "tags": [],
        "id": "P6IZetrjEb4x",
        "outputId": "94d31429-aabe-4ece-85e0-73f4b6601cce",
        "colab": {
          "base_uri": "https://localhost:8080/"
        }
      },
      "outputs": [
        {
          "output_type": "stream",
          "name": "stdout",
          "text": [
            "Mary Poppins\n"
          ]
        },
        {
          "output_type": "execute_result",
          "data": {
            "text/plain": [
              "True"
            ]
          },
          "metadata": {},
          "execution_count": 23
        }
      ],
      "source": [
        "print(name)\n",
        "name.startswith(\"Mary\")"
      ]
    },
    {
      "cell_type": "markdown",
      "metadata": {
        "id": "iOtSf41GEb4x"
      },
      "source": [
        "### Aside: getting help\n",
        "\n",
        "Add a `?` at the end of an object or a method to get help inside the notebook"
      ]
    },
    {
      "cell_type": "code",
      "execution_count": 24,
      "metadata": {
        "id": "6PAxu7UOEb4x"
      },
      "outputs": [],
      "source": [
        "name.startswith?"
      ]
    },
    {
      "cell_type": "markdown",
      "metadata": {
        "id": "Rfq6c9UYEb4x"
      },
      "source": [
        "### String rules\n",
        "\n",
        "- Short string literals are delimited by (`\"`) or (`'`).\n",
        "- Short string literals are one line only.\n",
        "- Special characters are input using escape sequences (`\\n` for newline,...).\n"
      ]
    },
    {
      "cell_type": "code",
      "execution_count": 25,
      "metadata": {
        "id": "I6_Kz5r9Eb4x",
        "outputId": "368b1fb2-02ec-4e0f-c9b7-6a07f995320e",
        "colab": {
          "base_uri": "https://localhost:8080/"
        }
      },
      "outputs": [
        {
          "output_type": "stream",
          "name": "stdout",
          "text": [
            "Line 1\n",
            "Line 2\n",
            "\n",
            "Line 1\n",
            "Line 2\n",
            "\n"
          ]
        }
      ],
      "source": [
        "print(\"Line 1\\nLine 2\\n\")\n",
        "print('Line 1\\nLine 2\\n')"
      ]
    },
    {
      "cell_type": "markdown",
      "metadata": {
        "id": "lDD1vBl9Eb4x"
      },
      "source": [
        "### String Formatting\n",
        "\n",
        "#### New style\n",
        "\n",
        "We use a method called `format` to replace placeholders in a string. Placeholders are denoted by `{}`:"
      ]
    },
    {
      "cell_type": "code",
      "execution_count": 26,
      "metadata": {
        "id": "60CkJcGUEb4x",
        "outputId": "f9502724-857d-4dc8-a257-e15d16fb8c03",
        "colab": {
          "base_uri": "https://localhost:8080/",
          "height": 36
        }
      },
      "outputs": [
        {
          "output_type": "execute_result",
          "data": {
            "text/plain": [
              "'Name: John Smith'"
            ],
            "application/vnd.google.colaboratory.intrinsic+json": {
              "type": "string"
            }
          },
          "metadata": {},
          "execution_count": 26
        }
      ],
      "source": [
        "\"Name: {}\".format('John Smith')"
      ]
    },
    {
      "cell_type": "code",
      "execution_count": 28,
      "metadata": {
        "id": "FEwraeeeEb4x",
        "outputId": "105b7c06-0d62-47d0-e315-208a6403e765",
        "colab": {
          "base_uri": "https://localhost:8080/"
        }
      },
      "outputs": [
        {
          "output_type": "stream",
          "name": "stdout",
          "text": [
            "My friend Ratão Renatinho lives in Poceirão\n"
          ]
        }
      ],
      "source": [
        "print(\"My friend {} lives in {}\".format('Ratão Renatinho', 'Poceirão'))"
      ]
    },
    {
      "cell_type": "markdown",
      "metadata": {
        "id": "MT937ukEEb4x"
      },
      "source": [
        "You can also have numbers:"
      ]
    },
    {
      "cell_type": "code",
      "execution_count": 29,
      "metadata": {
        "id": "biDPrD9LEb4x",
        "outputId": "333157a4-71ae-431d-fa2e-91681e674fd2",
        "colab": {
          "base_uri": "https://localhost:8080/"
        }
      },
      "outputs": [
        {
          "output_type": "stream",
          "name": "stdout",
          "text": [
            "Name: John Smith\n",
            "My friend John Smith lives in Lisbon\n",
            "John Smith lives in Lisbon, and Lisbon is in Portugal\n"
          ]
        }
      ],
      "source": [
        "print(\"Name: {0}\".format('John Smith'))\n",
        "print(\"My friend {0} lives in {1}\".format('John Smith', 'Lisbon'))\n",
        "print(\"{0} lives in {1}, and {1} is in {2}\".format('John Smith', 'Lisbon', 'Portugal'))"
      ]
    },
    {
      "cell_type": "markdown",
      "metadata": {
        "id": "x9axFfqtEb4x"
      },
      "source": [
        "#### F-strings (new style of formatting)\n",
        "\n",
        "Usage `f\"string {variable}\"`"
      ]
    },
    {
      "cell_type": "code",
      "execution_count": 30,
      "metadata": {
        "id": "Jggefja4Eb4y",
        "outputId": "873ee33c-2f94-48c0-ac94-9dc34d659170",
        "colab": {
          "base_uri": "https://localhost:8080/"
        }
      },
      "outputs": [
        {
          "output_type": "stream",
          "name": "stdout",
          "text": [
            "My friend John Smith lives in Lisbon and 1 + 2 = 3\n"
          ]
        }
      ],
      "source": [
        "name = \"John Smith\"\n",
        "place = \"Lisbon\"\n",
        "a = 1\n",
        "b = 2\n",
        "print(f\"My friend {name} lives in {place} and {a} + {b} = {a + b}\")"
      ]
    },
    {
      "cell_type": "markdown",
      "metadata": {
        "id": "vCOBruJtEb4y"
      },
      "source": [
        "#### Old style Formatting\n",
        "\n",
        "You should not use this in new code, but you may still see it in old code:"
      ]
    },
    {
      "cell_type": "code",
      "execution_count": 31,
      "metadata": {
        "id": "yTlI_2pQEb4y",
        "outputId": "46e8513f-1156-4910-f720-a2eebd876691",
        "colab": {
          "base_uri": "https://localhost:8080/"
        }
      },
      "outputs": [
        {
          "output_type": "stream",
          "name": "stdout",
          "text": [
            "Name: John Smith\n",
            "My friend John Smith lives in Lisbon\n"
          ]
        }
      ],
      "source": [
        "print(\"Name: %s\" % 'John Smith')\n",
        "print(\"My friend %s lives in %s\" % ('John Smith', 'Lisbon'))"
      ]
    },
    {
      "cell_type": "markdown",
      "metadata": {
        "id": "rJznrBbREb4y"
      },
      "source": [
        "#### Long strings"
      ]
    },
    {
      "cell_type": "code",
      "execution_count": 32,
      "metadata": {
        "id": "PsqI20wsEb4y"
      },
      "outputs": [],
      "source": [
        "long = '''Tell me, is love\n",
        "Still a popular suggestion\n",
        "Or merely an obsolete art?\n",
        "\n",
        "Forgive me, for asking,\n",
        "This simple question,\n",
        "I am unfamiliar with his heart.'''"
      ]
    },
    {
      "cell_type": "code",
      "execution_count": 33,
      "metadata": {
        "id": "B2YkXWmPEb4y",
        "outputId": "7408f3f4-2e79-4489-e283-6318314bd0e9",
        "colab": {
          "base_uri": "https://localhost:8080/"
        }
      },
      "outputs": [
        {
          "output_type": "stream",
          "name": "stdout",
          "text": [
            "Tell me, is love\n",
            "Still a popular suggestion\n",
            "Or merely an obsolete art?\n",
            "\n",
            "Forgive me, for asking,\n",
            "This simple question,\n",
            "I am unfamiliar with his heart.\n"
          ]
        }
      ],
      "source": [
        "print(long)"
      ]
    },
    {
      "cell_type": "markdown",
      "metadata": {
        "id": "9q6XdV8oEb4y"
      },
      "source": [
        "## Lists\n",
        "\n",
        "A python list is written with square brackets and commas. Elements can be acessed by their index"
      ]
    },
    {
      "cell_type": "code",
      "execution_count": 34,
      "metadata": {
        "id": "m2UDSyMDEb4y",
        "outputId": "cacb491f-bd01-4763-e82c-4067971b8885",
        "colab": {
          "base_uri": "https://localhost:8080/"
        }
      },
      "outputs": [
        {
          "output_type": "stream",
          "name": "stdout",
          "text": [
            "3\n",
            "5\n"
          ]
        }
      ],
      "source": [
        "values = [3, 5, 7, 10]\n",
        "\n",
        "print(values[0]) # <- first element\n",
        "print(values[1]) # <- second element"
      ]
    },
    {
      "cell_type": "code",
      "execution_count": 37,
      "metadata": {
        "id": "MDryfDVSEb4y",
        "outputId": "b0c31886-6126-4025-c7a2-91a30bfa0628",
        "colab": {
          "base_uri": "https://localhost:8080/"
        }
      },
      "outputs": [
        {
          "output_type": "stream",
          "name": "stdout",
          "text": [
            "[3, 5]\n",
            "10\n",
            "4\n"
          ]
        }
      ],
      "source": [
        "print(values[0:2]) # first two values\n",
        "print(values[-1]) #last value\n",
        "print(len(values)) #the lenght of the values variable"
      ]
    },
    {
      "cell_type": "markdown",
      "metadata": {
        "id": "4R4W_Q1QEb4y"
      },
      "source": [
        "### List methods\n",
        "- `append(element)`\n",
        "- `insert(position, element)`\n",
        "- `remove(element)`"
      ]
    },
    {
      "cell_type": "code",
      "execution_count": 38,
      "metadata": {
        "id": "VEKCKbILEb4y",
        "outputId": "adf541fb-6dfd-40f2-9587-fed1ca79e395",
        "colab": {
          "base_uri": "https://localhost:8080/"
        }
      },
      "outputs": [
        {
          "output_type": "stream",
          "name": "stdout",
          "text": [
            "['Apple', 'Banana', 'Pineapple']\n"
          ]
        }
      ],
      "source": [
        "fruits = [\"Pineapple\", \"Banana\", \"Apple\"]\n",
        "fruits.sort()\n",
        "print(fruits)"
      ]
    },
    {
      "cell_type": "code",
      "execution_count": 39,
      "metadata": {
        "id": "LhBC_dfiEb4y",
        "outputId": "b7eab4cc-39e6-4aad-aa2b-b4d0ac19559a",
        "colab": {
          "base_uri": "https://localhost:8080/"
        }
      },
      "outputs": [
        {
          "output_type": "stream",
          "name": "stdout",
          "text": [
            "['Apple', 'Banana', 'Pineapple', 'Orange']\n"
          ]
        }
      ],
      "source": [
        "fruits.append(\"Orange\")\n",
        "print(fruits)"
      ]
    },
    {
      "cell_type": "code",
      "execution_count": 40,
      "metadata": {
        "id": "Wkx70LqJEb4z",
        "outputId": "47e3f4bc-a1ef-464f-a7d4-3076a1438725",
        "colab": {
          "base_uri": "https://localhost:8080/"
        }
      },
      "outputs": [
        {
          "output_type": "stream",
          "name": "stdout",
          "text": [
            "['Apple', 'Banana', 'Pineapple', 'Orange', 123]\n"
          ]
        }
      ],
      "source": [
        "fruits.append(123)\n",
        "print(fruits)"
      ]
    },
    {
      "cell_type": "markdown",
      "metadata": {
        "id": "MxcYjtGjEb4z"
      },
      "source": [
        "you can even append other lists:"
      ]
    },
    {
      "cell_type": "code",
      "execution_count": 41,
      "metadata": {
        "id": "9KDz7R2cEb4z",
        "outputId": "800953ce-1625-4992-ec1d-6f7d0a8289d6",
        "colab": {
          "base_uri": "https://localhost:8080/"
        }
      },
      "outputs": [
        {
          "output_type": "execute_result",
          "data": {
            "text/plain": [
              "['Apple', 'Banana', 'Pineapple', 'Orange', 123]"
            ]
          },
          "metadata": {},
          "execution_count": 41
        }
      ],
      "source": [
        "fruits"
      ]
    },
    {
      "cell_type": "code",
      "execution_count": 42,
      "metadata": {
        "id": "ZR6t8NxTEb4z",
        "outputId": "0f2674b2-4bd1-45a3-8a24-a14b369f9afc",
        "colab": {
          "base_uri": "https://localhost:8080/"
        }
      },
      "outputs": [
        {
          "output_type": "stream",
          "name": "stdout",
          "text": [
            "['Apple', 'Banana', 'Pineapple', 'Orange', 123, [1, 2, 3]]\n"
          ]
        }
      ],
      "source": [
        "numbers = [1,2,3]\n",
        "fruits.append(numbers)\n",
        "print(fruits)"
      ]
    },
    {
      "cell_type": "code",
      "execution_count": 43,
      "metadata": {
        "id": "bIur77_tEb4z",
        "outputId": "cf7b54ef-c6b6-49aa-c4e7-01672a28b73b",
        "colab": {
          "base_uri": "https://localhost:8080/"
        }
      },
      "outputs": [
        {
          "output_type": "execute_result",
          "data": {
            "text/plain": [
              "[1, 2, 3]"
            ]
          },
          "metadata": {},
          "execution_count": 43
        }
      ],
      "source": [
        "fruits[5]"
      ]
    },
    {
      "cell_type": "markdown",
      "metadata": {
        "id": "YChRYkLdEb4z"
      },
      "source": [
        "Lists are mutable objects, so you can easily change a given element"
      ]
    },
    {
      "cell_type": "code",
      "execution_count": 44,
      "metadata": {
        "id": "GhPmyT2sEb4z",
        "outputId": "9b7ed462-2c1f-41ef-dd58-ac3f9bf6000b",
        "colab": {
          "base_uri": "https://localhost:8080/"
        }
      },
      "outputs": [
        {
          "output_type": "stream",
          "name": "stdout",
          "text": [
            "['Apple', 'Banana', 'Pineapple', 'Orange', 123, [1, 2, 3]]\n",
            "['Apple', 'Banana', 'Pineapple', 'Orange', 7654, [1, 2, 3]]\n"
          ]
        }
      ],
      "source": [
        "print(fruits)\n",
        "fruits[4] = 7654\n",
        "print(fruits)"
      ]
    },
    {
      "cell_type": "code",
      "execution_count": 45,
      "metadata": {
        "id": "ryMM7pfNEb4z",
        "outputId": "be3cf71c-30cb-4eb6-91ff-069f7bd2fcbd",
        "colab": {
          "base_uri": "https://localhost:8080/"
        }
      },
      "outputs": [
        {
          "output_type": "stream",
          "name": "stdout",
          "text": [
            "['Apple', 'Banana', 'Pineapple', 'Orange', 7654, [1, 333, 3]]\n"
          ]
        }
      ],
      "source": [
        "fruits[5][1] = 333\n",
        "print(fruits)"
      ]
    },
    {
      "cell_type": "markdown",
      "metadata": {
        "id": "fOMKwqqSEb4z"
      },
      "source": [
        "## Tuples\n",
        "\n",
        "Similar to lists, but *immutable*"
      ]
    },
    {
      "cell_type": "code",
      "execution_count": 46,
      "metadata": {
        "id": "4DAKWx8yEb4z",
        "outputId": "c3689ea6-ec3e-42d5-e0d3-acd95f214dc4",
        "colab": {
          "base_uri": "https://localhost:8080/"
        }
      },
      "outputs": [
        {
          "output_type": "execute_result",
          "data": {
            "text/plain": [
              "(3, 5, 7, 'hello', 'goodbye')"
            ]
          },
          "metadata": {},
          "execution_count": 46
        }
      ],
      "source": [
        "a = (3, 5, 7 , \"hello\", \"goodbye\")\n",
        "a"
      ]
    },
    {
      "cell_type": "code",
      "execution_count": 47,
      "metadata": {
        "id": "TCO-AvUlEb4z",
        "outputId": "86f44ef0-e167-4f14-ea81-e6ec54dbf95c",
        "colab": {
          "base_uri": "https://localhost:8080/"
        }
      },
      "outputs": [
        {
          "output_type": "execute_result",
          "data": {
            "text/plain": [
              "(5, 7, 'hello')"
            ]
          },
          "metadata": {},
          "execution_count": 47
        }
      ],
      "source": [
        "a[1:4]"
      ]
    },
    {
      "cell_type": "markdown",
      "metadata": {
        "id": "HmTHNpb2Eb4z"
      },
      "source": [
        "Remember: they are *immutable*..."
      ]
    },
    {
      "cell_type": "code",
      "execution_count": 48,
      "metadata": {
        "id": "qr0I1OIlEb4z",
        "outputId": "ed2f174e-09c4-4f71-8c48-1d8fc0eb6b11",
        "colab": {
          "base_uri": "https://localhost:8080/",
          "height": 141
        }
      },
      "outputs": [
        {
          "output_type": "error",
          "ename": "TypeError",
          "evalue": "'tuple' object does not support item assignment",
          "traceback": [
            "\u001b[0;31m---------------------------------------------------------------------------\u001b[0m",
            "\u001b[0;31mTypeError\u001b[0m                                 Traceback (most recent call last)",
            "\u001b[0;32m<ipython-input-48-c8548dbc0a7e>\u001b[0m in \u001b[0;36m<cell line: 0>\u001b[0;34m()\u001b[0m\n\u001b[0;32m----> 1\u001b[0;31m \u001b[0ma\u001b[0m\u001b[0;34m[\u001b[0m\u001b[0;36m0\u001b[0m\u001b[0;34m]\u001b[0m \u001b[0;34m=\u001b[0m \u001b[0;36m1\u001b[0m\u001b[0;34m\u001b[0m\u001b[0;34m\u001b[0m\u001b[0m\n\u001b[0m",
            "\u001b[0;31mTypeError\u001b[0m: 'tuple' object does not support item assignment"
          ]
        }
      ],
      "source": [
        "a[0] = 1"
      ]
    },
    {
      "cell_type": "markdown",
      "metadata": {
        "id": "4EFx2IFiEb4z"
      },
      "source": [
        "## Dictionaries"
      ]
    },
    {
      "cell_type": "code",
      "execution_count": 49,
      "metadata": {
        "id": "XciqE6kQEb4z",
        "outputId": "49c9b2e4-5508-4960-da96-71765e2ba6d7",
        "colab": {
          "base_uri": "https://localhost:8080/"
        }
      },
      "outputs": [
        {
          "output_type": "stream",
          "name": "stdout",
          "text": [
            "Luis' email is luis@iscte.pt\n"
          ]
        }
      ],
      "source": [
        "emails = {\n",
        "    'Luis' : 'luis@iscte.pt',\n",
        "    'Rita' : 'rita@gmail.com',\n",
        "}\n",
        "\n",
        "print(\"Luis' email is {}\".format(emails['Luis']))"
      ]
    },
    {
      "cell_type": "code",
      "execution_count": 50,
      "metadata": {
        "id": "tAPqFgO-Eb40",
        "outputId": "f49b8478-c751-48a6-ecb8-79ed7be3a603",
        "colab": {
          "base_uri": "https://localhost:8080/"
        }
      },
      "outputs": [
        {
          "output_type": "stream",
          "name": "stdout",
          "text": [
            "{'Luis': 'luis@iscte-iul.pt', 'Rita': 'rita@gmail.com', 'Pedro': 'pedro@gmail.com'}\n"
          ]
        }
      ],
      "source": [
        "emails['Pedro'] = 'pedro@gmail.com'  # <- add a new element\n",
        "emails['Luis'] = 'luis@iscte-iul.pt' # <- replace an element\n",
        "\n",
        "print(emails)"
      ]
    },
    {
      "cell_type": "code",
      "execution_count": 51,
      "metadata": {
        "id": "As314cVyEb40",
        "outputId": "907db106-4f13-49e6-83cd-fd940059234d",
        "colab": {
          "base_uri": "https://localhost:8080/"
        }
      },
      "outputs": [
        {
          "output_type": "execute_result",
          "data": {
            "text/plain": [
              "3"
            ]
          },
          "metadata": {},
          "execution_count": 51
        }
      ],
      "source": [
        "len(emails)"
      ]
    },
    {
      "cell_type": "code",
      "execution_count": 52,
      "metadata": {
        "id": "MoWGjugiEb40",
        "outputId": "54d22512-173a-43c7-ea0b-918f4c1823fb",
        "colab": {
          "base_uri": "https://localhost:8080/"
        }
      },
      "outputs": [
        {
          "output_type": "execute_result",
          "data": {
            "text/plain": [
              "dict_keys(['Luis', 'Rita', 'Pedro'])"
            ]
          },
          "metadata": {},
          "execution_count": 52
        }
      ],
      "source": [
        "emails.keys()"
      ]
    },
    {
      "cell_type": "code",
      "execution_count": 53,
      "metadata": {
        "id": "CllLUZcTEb40",
        "outputId": "8f3b5720-766a-4b22-e264-781d44b7d7ab",
        "colab": {
          "base_uri": "https://localhost:8080/"
        }
      },
      "outputs": [
        {
          "output_type": "execute_result",
          "data": {
            "text/plain": [
              "True"
            ]
          },
          "metadata": {},
          "execution_count": 53
        }
      ],
      "source": [
        "'Pedro' in emails"
      ]
    },
    {
      "cell_type": "markdown",
      "metadata": {
        "id": "7GISTp8JEb40"
      },
      "source": [
        "## None type\n",
        "\n",
        "There is something called `None`.\n",
        "It's like a null pointer."
      ]
    },
    {
      "cell_type": "code",
      "execution_count": 55,
      "metadata": {
        "id": "0YERT9vwEb40"
      },
      "outputs": [],
      "source": [
        "None"
      ]
    },
    {
      "cell_type": "markdown",
      "metadata": {
        "id": "KgCwW4UkEb40"
      },
      "source": [
        "# Python Control Structures\n",
        "- `if`\n",
        "- `while` loop\n",
        "- `for` loop"
      ]
    },
    {
      "cell_type": "code",
      "execution_count": 56,
      "metadata": {
        "id": "9PwuqKzREb40",
        "outputId": "42a0fcad-1736-409d-a757-a144e5bb172b",
        "colab": {
          "base_uri": "https://localhost:8080/"
        }
      },
      "outputs": [
        {
          "output_type": "stream",
          "name": "stdout",
          "text": [
            "Rita passed\n",
            "Congratulations\n"
          ]
        }
      ],
      "source": [
        "MIN_GRADE = 0.5\n",
        "student = \"Rita\"\n",
        "grade = 0.7\n",
        "\n",
        "if grade > MIN_GRADE:\n",
        "    print(\"{} passed\".format(student))\n",
        "    print(\"Congratulations\")\n",
        "else:\n",
        "    print(\"{} needs to take the test again\".format(student))"
      ]
    },
    {
      "cell_type": "code",
      "source": [
        "MIN_GRADE = 0.5\n",
        "student = \"Rato Poceirão\"\n",
        "grade = 0.3\n",
        "\n",
        "if grade > MIN_GRADE:\n",
        "    print(\"{} passed\".format(student))\n",
        "    print(\"Congratulations\")\n",
        "else:\n",
        "    print(\"{} needs to take the test again\".format(student))"
      ],
      "metadata": {
        "id": "MPct805QJLXR",
        "outputId": "249beeeb-f8bd-4b7a-c28a-43151a6775ee",
        "colab": {
          "base_uri": "https://localhost:8080/"
        }
      },
      "execution_count": 57,
      "outputs": [
        {
          "output_type": "stream",
          "name": "stdout",
          "text": [
            "Rato Poceirão needs to take the test again\n"
          ]
        }
      ]
    },
    {
      "cell_type": "markdown",
      "metadata": {
        "id": "uRPh-GpSEb40"
      },
      "source": [
        "## Python blocks are defined by indentation\n",
        "\n",
        "Unlike almost all other modern programming languages, Python uses **indentation** to delimit blocks!\n",
        "\n",
        "(This is sometimes called the [off-side rule](https://en.wikipedia.org/wiki/Off-side_rule)).\n",
        "\n",
        "- you can use any number of spaces, but you should use **4 spaces**.\n",
        "- you can use TABs, but please don't"
      ]
    },
    {
      "cell_type": "markdown",
      "metadata": {
        "id": "hTFgTQ9AEb40"
      },
      "source": [
        "    if <condition>:\n",
        "        <statement 1>\n",
        "        <statement 2>\n",
        "        <statement 3>\n",
        "    <statement after the if>"
      ]
    },
    {
      "cell_type": "markdown",
      "metadata": {
        "id": "1EO-5eu_Eb40"
      },
      "source": [
        "## Conditions\n",
        "\n",
        "\n",
        "- `a == b`\n",
        "- `a != b`\n",
        "- `a < b`\n",
        "- `a > b`\n",
        "- `a >= b` and `a <= b`\n",
        "- `a in lst`\n",
        "- `a not in lst`\n",
        "\n"
      ]
    },
    {
      "cell_type": "markdown",
      "metadata": {
        "id": "DY90JQo7Eb40"
      },
      "source": [
        "## `if`, `elif` and `else` clauses\n"
      ]
    },
    {
      "cell_type": "code",
      "execution_count": 58,
      "metadata": {
        "id": "aUs5xHf1Eb40",
        "outputId": "193d06c2-5a56-4ad3-8fe8-cc2d4ac7bf72",
        "colab": {
          "base_uri": "https://localhost:8080/"
        }
      },
      "outputs": [
        {
          "output_type": "stream",
          "name": "stdout",
          "text": [
            "Greater than 1\n"
          ]
        }
      ],
      "source": [
        "a = 2\n",
        "if a > 3:\n",
        "    print(\"Greater than 3\")\n",
        "elif a > 2:\n",
        "    print(\"Greater than 2\")\n",
        "elif a > 1:\n",
        "    print(\"Greater than 1\")\n",
        "else:\n",
        "    print(\"Kind of small\")"
      ]
    },
    {
      "cell_type": "markdown",
      "metadata": {
        "id": "WMdTz6BtEb41"
      },
      "source": [
        "## Conditions and Booleans\n",
        "\n",
        "We have seen comparisons already (e.g., `a < b`), they return booleans (either `True` or `False`):"
      ]
    },
    {
      "cell_type": "code",
      "execution_count": 59,
      "metadata": {
        "id": "crcU-ZVqEb41",
        "outputId": "aa9a8795-b160-438b-ed54-a6f73a11b3ef",
        "colab": {
          "base_uri": "https://localhost:8080/"
        }
      },
      "outputs": [
        {
          "output_type": "stream",
          "name": "stdout",
          "text": [
            "True\n",
            "False\n"
          ]
        }
      ],
      "source": [
        "a = 1\n",
        "b = 2\n",
        "print(a < b)\n",
        "print(a == b)"
      ]
    },
    {
      "cell_type": "markdown",
      "metadata": {
        "id": "wa5SExezEb41"
      },
      "source": [
        "We can also use booleans as values:"
      ]
    },
    {
      "cell_type": "code",
      "execution_count": 60,
      "metadata": {
        "id": "o_s6e0pNEb41",
        "outputId": "1a18ee2b-3588-4463-eda1-ff85d5bca411",
        "colab": {
          "base_uri": "https://localhost:8080/"
        }
      },
      "outputs": [
        {
          "output_type": "stream",
          "name": "stdout",
          "text": [
            "Yep\n"
          ]
        }
      ],
      "source": [
        "potato = True\n",
        "if potato:\n",
        "    print(\"Yep\")"
      ]
    },
    {
      "cell_type": "markdown",
      "metadata": {
        "id": "EA0JnVYjEb41"
      },
      "source": [
        "Many things can be evaluated as conditions\n",
        "  - lists (the empty list gets evaluated as `False`, otherwise `True`)\n",
        "  - dicts (same)\n",
        "  - strings (empty string evaluates to `False`, otherwise `True`)\n",
        "  - numbers (zero is `False`, else `True`)\n",
        "\n",
        "Several other objects can be evaluated in conditions"
      ]
    },
    {
      "cell_type": "code",
      "execution_count": 61,
      "metadata": {
        "id": "J2VNMR6aEb41",
        "outputId": "95e88aae-7ac2-4b95-85f3-ce51be58f935",
        "colab": {
          "base_uri": "https://localhost:8080/"
        }
      },
      "outputs": [
        {
          "output_type": "stream",
          "name": "stdout",
          "text": [
            "Fruity\n"
          ]
        }
      ],
      "source": [
        "if fruits:\n",
        "    print(\"Fruity\")\n",
        "else:\n",
        "    print(\"Nope\")"
      ]
    },
    {
      "cell_type": "markdown",
      "metadata": {
        "id": "Q1qIPQVDEb41"
      },
      "source": [
        "The *logic operators* `and`, `or`, `not` can also be used ..."
      ]
    },
    {
      "cell_type": "code",
      "execution_count": 62,
      "metadata": {
        "id": "7XSJiY-4Eb41",
        "outputId": "6565bcb1-32b0-4f56-8157-bd55a8f94037",
        "colab": {
          "base_uri": "https://localhost:8080/"
        }
      },
      "outputs": [
        {
          "output_type": "stream",
          "name": "stdout",
          "text": [
            "Name please :ana\n",
            "Welcome back ana\n"
          ]
        }
      ],
      "source": [
        "name = input(\"Name please :\")\n",
        "if \"ana\" in name or name == \"bob\":\n",
        "    print(\"Welcome back {}\".format(name))\n",
        "else:\n",
        "    print(\"Nice to meet you\")"
      ]
    },
    {
      "cell_type": "code",
      "source": [
        "name = input(\"Name please :\")\n",
        "if \"ana\" in name or name == \"bob\":\n",
        "    print(\"Welcome back {}\".format(name))\n",
        "else:\n",
        "    print(\"Nice to meet you\")"
      ],
      "metadata": {
        "id": "BIw2Qt3yJtMB",
        "outputId": "d617fbc9-c369-429a-a3a9-48fd039422c4",
        "colab": {
          "base_uri": "https://localhost:8080/"
        }
      },
      "execution_count": 63,
      "outputs": [
        {
          "output_type": "stream",
          "name": "stdout",
          "text": [
            "Name please :Vasco\n",
            "Nice to meet you\n"
          ]
        }
      ]
    },
    {
      "cell_type": "markdown",
      "metadata": {
        "id": "nDed5DSPEb41"
      },
      "source": [
        "# Loops"
      ]
    },
    {
      "cell_type": "markdown",
      "metadata": {
        "id": "st7t9X5NEb41"
      },
      "source": [
        "## `while` loop\n",
        "\n",
        "By now, you can probably guess the syntax:\n",
        "\n",
        "    while <condition>:\n",
        "        <block>"
      ]
    },
    {
      "cell_type": "code",
      "execution_count": 64,
      "metadata": {
        "id": "Qlx4VMDNEb41",
        "outputId": "e7343c84-959e-4e58-e0f8-00f0e84c93cf",
        "colab": {
          "base_uri": "https://localhost:8080/",
          "height": 529
        }
      },
      "outputs": [
        {
          "name": "stdout",
          "output_type": "stream",
          "text": [
            "Give me a name: Vasco\n",
            "Give me another name: Santos\n",
            "Give me another name: Com\n",
            "Give me another name: Nome\n",
            "Give me another name: Infinito\n",
            "Give me another name: Até\n",
            "Give me another name: Carregar\n",
            "Give me another name: No\n",
            "Give me another name: Botão\n",
            "Give me another name: De\n",
            "Give me another name: Stop\n",
            "Give me another name: :)\n"
          ]
        },
        {
          "output_type": "error",
          "ename": "KeyboardInterrupt",
          "evalue": "Interrupted by user",
          "traceback": [
            "\u001b[0;31m---------------------------------------------------------------------------\u001b[0m",
            "\u001b[0;31mKeyboardInterrupt\u001b[0m                         Traceback (most recent call last)",
            "\u001b[0;32m<ipython-input-64-431ba1ed91f4>\u001b[0m in \u001b[0;36m<cell line: 0>\u001b[0;34m()\u001b[0m\n\u001b[1;32m      3\u001b[0m \u001b[0;32mwhile\u001b[0m \u001b[0mlen\u001b[0m\u001b[0;34m(\u001b[0m\u001b[0mname\u001b[0m\u001b[0;34m)\u001b[0m \u001b[0;34m!=\u001b[0m \u001b[0;36m0\u001b[0m\u001b[0;34m:\u001b[0m\u001b[0;34m\u001b[0m\u001b[0;34m\u001b[0m\u001b[0m\n\u001b[1;32m      4\u001b[0m     \u001b[0mnames\u001b[0m\u001b[0;34m.\u001b[0m\u001b[0mappend\u001b[0m\u001b[0;34m(\u001b[0m\u001b[0mname\u001b[0m\u001b[0;34m)\u001b[0m\u001b[0;34m\u001b[0m\u001b[0;34m\u001b[0m\u001b[0m\n\u001b[0;32m----> 5\u001b[0;31m     \u001b[0mname\u001b[0m \u001b[0;34m=\u001b[0m \u001b[0minput\u001b[0m\u001b[0;34m(\u001b[0m\u001b[0;34m\"Give me another name: \"\u001b[0m\u001b[0;34m)\u001b[0m\u001b[0;34m\u001b[0m\u001b[0;34m\u001b[0m\u001b[0m\n\u001b[0m",
            "\u001b[0;32m/usr/local/lib/python3.11/dist-packages/ipykernel/kernelbase.py\u001b[0m in \u001b[0;36mraw_input\u001b[0;34m(self, prompt)\u001b[0m\n\u001b[1;32m   1175\u001b[0m                 \u001b[0;34m\"raw_input was called, but this frontend does not support input requests.\"\u001b[0m\u001b[0;34m\u001b[0m\u001b[0;34m\u001b[0m\u001b[0m\n\u001b[1;32m   1176\u001b[0m             )\n\u001b[0;32m-> 1177\u001b[0;31m         return self._input_request(\n\u001b[0m\u001b[1;32m   1178\u001b[0m             \u001b[0mstr\u001b[0m\u001b[0;34m(\u001b[0m\u001b[0mprompt\u001b[0m\u001b[0;34m)\u001b[0m\u001b[0;34m,\u001b[0m\u001b[0;34m\u001b[0m\u001b[0;34m\u001b[0m\u001b[0m\n\u001b[1;32m   1179\u001b[0m             \u001b[0mself\u001b[0m\u001b[0;34m.\u001b[0m\u001b[0m_parent_ident\u001b[0m\u001b[0;34m[\u001b[0m\u001b[0;34m\"shell\"\u001b[0m\u001b[0;34m]\u001b[0m\u001b[0;34m,\u001b[0m\u001b[0;34m\u001b[0m\u001b[0;34m\u001b[0m\u001b[0m\n",
            "\u001b[0;32m/usr/local/lib/python3.11/dist-packages/ipykernel/kernelbase.py\u001b[0m in \u001b[0;36m_input_request\u001b[0;34m(self, prompt, ident, parent, password)\u001b[0m\n\u001b[1;32m   1217\u001b[0m             \u001b[0;32mexcept\u001b[0m \u001b[0mKeyboardInterrupt\u001b[0m\u001b[0;34m:\u001b[0m\u001b[0;34m\u001b[0m\u001b[0;34m\u001b[0m\u001b[0m\n\u001b[1;32m   1218\u001b[0m                 \u001b[0;31m# re-raise KeyboardInterrupt, to truncate traceback\u001b[0m\u001b[0;34m\u001b[0m\u001b[0;34m\u001b[0m\u001b[0m\n\u001b[0;32m-> 1219\u001b[0;31m                 \u001b[0;32mraise\u001b[0m \u001b[0mKeyboardInterrupt\u001b[0m\u001b[0;34m(\u001b[0m\u001b[0;34m\"Interrupted by user\"\u001b[0m\u001b[0;34m)\u001b[0m \u001b[0;32mfrom\u001b[0m \u001b[0;32mNone\u001b[0m\u001b[0;34m\u001b[0m\u001b[0;34m\u001b[0m\u001b[0m\n\u001b[0m\u001b[1;32m   1220\u001b[0m             \u001b[0;32mexcept\u001b[0m \u001b[0mException\u001b[0m\u001b[0;34m:\u001b[0m\u001b[0;34m\u001b[0m\u001b[0;34m\u001b[0m\u001b[0m\n\u001b[1;32m   1221\u001b[0m                 \u001b[0mself\u001b[0m\u001b[0;34m.\u001b[0m\u001b[0mlog\u001b[0m\u001b[0;34m.\u001b[0m\u001b[0mwarning\u001b[0m\u001b[0;34m(\u001b[0m\u001b[0;34m\"Invalid Message:\"\u001b[0m\u001b[0;34m,\u001b[0m \u001b[0mexc_info\u001b[0m\u001b[0;34m=\u001b[0m\u001b[0;32mTrue\u001b[0m\u001b[0;34m)\u001b[0m\u001b[0;34m\u001b[0m\u001b[0;34m\u001b[0m\u001b[0m\n",
            "\u001b[0;31mKeyboardInterrupt\u001b[0m: Interrupted by user"
          ]
        }
      ],
      "source": [
        "names = []\n",
        "name = input(\"Give me a name: \")\n",
        "while len(name) != 0:\n",
        "    names.append(name)\n",
        "    name = input(\"Give me another name: \")"
      ]
    },
    {
      "cell_type": "code",
      "execution_count": 65,
      "metadata": {
        "id": "DYHpNiOLEb41",
        "outputId": "44df6652-8a74-4e23-f793-cb1f71b8744c",
        "colab": {
          "base_uri": "https://localhost:8080/"
        }
      },
      "outputs": [
        {
          "output_type": "stream",
          "name": "stdout",
          "text": [
            "Here is the list of names:  ['Vasco', 'Santos', 'Com', 'Nome', 'Infinito', 'Até', 'Carregar', 'No', 'Botão', 'De', 'Stop', ':)']\n"
          ]
        }
      ],
      "source": [
        "if names:\n",
        "    print(\"Here is the list of names: \", names)\n",
        "else:\n",
        "    print(\"you are so lazy\")"
      ]
    },
    {
      "cell_type": "code",
      "execution_count": 66,
      "metadata": {
        "id": "zJg7H5EZEb41",
        "outputId": "d6695825-67bf-42ba-f900-4389f80a65a3",
        "colab": {
          "base_uri": "https://localhost:8080/"
        }
      },
      "outputs": [
        {
          "output_type": "stream",
          "name": "stdout",
          "text": [
            "23 // 5 = 4\n",
            "4\n"
          ]
        }
      ],
      "source": [
        "# poor man's division\n",
        "a = 23\n",
        "b = 5\n",
        "\n",
        "c = a\n",
        "i = 0\n",
        "while c > b:\n",
        "    c -= b\n",
        "    i += 1\n",
        "\n",
        "print(\"{} // {} = {}\".format(a, b, i))\n",
        "print(23 // 5)"
      ]
    },
    {
      "cell_type": "markdown",
      "metadata": {
        "id": "kL-b-vF1Eb41"
      },
      "source": [
        "## `for` loop\n",
        "\n",
        "In Python, the `for` loop is over a \"sequence\":\n",
        "\n",
        "    for <name> in <sequence>:\n",
        "        <block>"
      ]
    },
    {
      "cell_type": "code",
      "execution_count": 67,
      "metadata": {
        "id": "EwG0q0r1Eb41",
        "outputId": "d29d0b16-7d04-4d57-aec3-17d0768f992f",
        "colab": {
          "base_uri": "https://localhost:8080/"
        }
      },
      "outputs": [
        {
          "output_type": "stream",
          "name": "stdout",
          "text": [
            "Luis\n",
            "Ece\n",
            "Rita\n"
          ]
        }
      ],
      "source": [
        "students = ['Luis', \"Ece\", \"Rita\"]\n",
        "\n",
        "for st in students:\n",
        "    print(st)"
      ]
    },
    {
      "cell_type": "markdown",
      "metadata": {
        "id": "4V8Dzrh4Eb42"
      },
      "source": [
        "We can also loop over strings, tuples, or dictionaries:"
      ]
    },
    {
      "cell_type": "code",
      "execution_count": 68,
      "metadata": {
        "id": "KmEopDLEEb42",
        "outputId": "2c31ad4b-b0b2-4fd2-9118-26d80a0752b8",
        "colab": {
          "base_uri": "https://localhost:8080/"
        }
      },
      "outputs": [
        {
          "output_type": "stream",
          "name": "stdout",
          "text": [
            "N\n",
            "i\n",
            "c\n",
            "e\n",
            " \n",
            "d\n",
            "a\n",
            "y\n"
          ]
        }
      ],
      "source": [
        "for c in \"Nice day\":\n",
        "    print(c)"
      ]
    },
    {
      "cell_type": "code",
      "execution_count": 69,
      "metadata": {
        "id": "YXee2qlQEb42",
        "outputId": "ab2d7132-bdab-4ad8-f8b4-827a6b8fbed0",
        "colab": {
          "base_uri": "https://localhost:8080/"
        }
      },
      "outputs": [
        {
          "output_type": "stream",
          "name": "stdout",
          "text": [
            "a\n",
            "b\n",
            "3\n"
          ]
        }
      ],
      "source": [
        "for x in (\"a\", \"b\", 3):\n",
        "    print(x)"
      ]
    },
    {
      "cell_type": "code",
      "execution_count": 70,
      "metadata": {
        "id": "yOU6NopEEb42",
        "outputId": "d1cbbb53-ed71-462a-f1c5-15d96b6d0045",
        "colab": {
          "base_uri": "https://localhost:8080/"
        }
      },
      "outputs": [
        {
          "output_type": "stream",
          "name": "stdout",
          "text": [
            "Luis luis@iscte-iul.pt\n",
            "Rita rita@gmail.com\n",
            "Pedro pedro@gmail.com\n"
          ]
        }
      ],
      "source": [
        "for n in emails:\n",
        "    print(n, emails[n])"
      ]
    },
    {
      "cell_type": "markdown",
      "metadata": {
        "id": "TPmo6_rSEb42"
      },
      "source": [
        "## More loopy stuff\n",
        "\n",
        "In many other languages, for loops are over integers (0, 1, 2, ... , N). How can we achieve the same in Python?"
      ]
    },
    {
      "cell_type": "code",
      "execution_count": 71,
      "metadata": {
        "id": "AczSocKxEb42",
        "outputId": "fe57d1a5-0813-40de-ac21-dd69bfa308db",
        "colab": {
          "base_uri": "https://localhost:8080/"
        }
      },
      "outputs": [
        {
          "output_type": "execute_result",
          "data": {
            "text/plain": [
              "range(0, 5)"
            ]
          },
          "metadata": {},
          "execution_count": 71
        }
      ],
      "source": [
        "range(5)"
      ]
    },
    {
      "cell_type": "code",
      "execution_count": 72,
      "metadata": {
        "id": "-cv9ub9aEb42",
        "outputId": "d774fb4f-098e-4b48-ebb3-c83ab9be72b6",
        "colab": {
          "base_uri": "https://localhost:8080/"
        }
      },
      "outputs": [
        {
          "output_type": "stream",
          "name": "stdout",
          "text": [
            "0 0\n",
            "1 1\n",
            "2 4\n",
            "3 9\n",
            "4 16\n"
          ]
        }
      ],
      "source": [
        "for i in range(5):\n",
        "    print(i, i**2)"
      ]
    },
    {
      "cell_type": "code",
      "execution_count": 73,
      "metadata": {
        "id": "nIXGBVHFEb42",
        "outputId": "5f92e728-5525-45f8-d694-d4e80be8cf2d",
        "colab": {
          "base_uri": "https://localhost:8080/"
        }
      },
      "outputs": [
        {
          "output_type": "stream",
          "name": "stdout",
          "text": [
            "5 25\n",
            "6 36\n",
            "7 49\n",
            "8 64\n",
            "9 81\n"
          ]
        }
      ],
      "source": [
        "for i in range(5,10):\n",
        "    print(i, i**2)"
      ]
    },
    {
      "cell_type": "markdown",
      "metadata": {
        "id": "G7agYeF6Eb42"
      },
      "source": [
        "## Break and continue\n",
        "\n",
        "Like in other languages, in a loop `break` exits the loop and `continue` goes to the next iteration immediately:"
      ]
    },
    {
      "cell_type": "code",
      "execution_count": 74,
      "metadata": {
        "id": "e5yzijG1Eb42",
        "outputId": "a6f47f79-5d8f-4f1d-bccd-482a0a550bfc",
        "colab": {
          "base_uri": "https://localhost:8080/"
        }
      },
      "outputs": [
        {
          "output_type": "execute_result",
          "data": {
            "text/plain": [
              "3.0"
            ]
          },
          "metadata": {},
          "execution_count": 74
        }
      ],
      "source": [
        "numbers = [1, 6, -13, -4, 2]\n",
        "\n",
        "total = 0\n",
        "n = 0.0\n",
        "\n",
        "for v in numbers:\n",
        "    if v < 0:\n",
        "        continue\n",
        "    total = total + v\n",
        "    n += 1\n",
        "total/n"
      ]
    },
    {
      "cell_type": "markdown",
      "metadata": {
        "id": "e_IXLJEVEb42"
      },
      "source": [
        "# Functions"
      ]
    },
    {
      "cell_type": "code",
      "execution_count": 75,
      "metadata": {
        "id": "V-tKvE1UEb42",
        "outputId": "d9c740ce-f92e-40b7-f698-73fe61078543",
        "colab": {
          "base_uri": "https://localhost:8080/"
        }
      },
      "outputs": [
        {
          "output_type": "stream",
          "name": "stdout",
          "text": [
            "6\n"
          ]
        }
      ],
      "source": [
        "def double(x):\n",
        "    \"\"\"\n",
        "    Returns the double of its argument\n",
        "    \"\"\"\n",
        "    return 2 * x\n",
        "\n",
        "print(double(3))"
      ]
    },
    {
      "cell_type": "markdown",
      "metadata": {
        "id": "nQ3OU6pREb42"
      },
      "source": [
        "Is that a comment?"
      ]
    },
    {
      "cell_type": "markdown",
      "metadata": {
        "id": "AwRs3mdiEb42"
      },
      "source": [
        "It's a documentation string.\n",
        "\n",
        "Try `double?`"
      ]
    },
    {
      "cell_type": "code",
      "execution_count": 76,
      "metadata": {
        "id": "TVTLgo8dEb42"
      },
      "outputs": [],
      "source": [
        "double?"
      ]
    },
    {
      "cell_type": "markdown",
      "metadata": {
        "id": "YTyDL4vREb42"
      },
      "source": [
        "## Calling a function"
      ]
    },
    {
      "cell_type": "code",
      "execution_count": 77,
      "metadata": {
        "id": "-WBo9KAfEb42",
        "outputId": "26ce3cc6-56be-4dfd-8269-ce8dae4c240b",
        "colab": {
          "base_uri": "https://localhost:8080/"
        }
      },
      "outputs": [
        {
          "output_type": "execute_result",
          "data": {
            "text/plain": [
              "8"
            ]
          },
          "metadata": {},
          "execution_count": 77
        }
      ],
      "source": [
        "a = 4\n",
        "double(a)"
      ]
    },
    {
      "cell_type": "code",
      "execution_count": 78,
      "metadata": {
        "id": "uBao7OlwEb42",
        "outputId": "bca38989-e956-4bf6-af02-f2e87c218087",
        "colab": {
          "base_uri": "https://localhost:8080/"
        }
      },
      "outputs": [
        {
          "output_type": "execute_result",
          "data": {
            "text/plain": [
              "4.6"
            ]
          },
          "metadata": {},
          "execution_count": 78
        }
      ],
      "source": [
        "b = double(2.3)\n",
        "b"
      ]
    },
    {
      "cell_type": "code",
      "execution_count": 79,
      "metadata": {
        "id": "B-Up6TbcEb42",
        "outputId": "d893fc09-f593-4746-e2a0-829112a055f8",
        "colab": {
          "base_uri": "https://localhost:8080/"
        }
      },
      "outputs": [
        {
          "output_type": "execute_result",
          "data": {
            "text/plain": [
              "16"
            ]
          },
          "metadata": {},
          "execution_count": 79
        }
      ],
      "source": [
        "c = double(double(a))\n",
        "c"
      ]
    },
    {
      "cell_type": "markdown",
      "metadata": {
        "id": "5jb5Ms7WEb43"
      },
      "source": [
        "## Default arguments\n",
        "Note that this function does not return anything. It only prints something.\n",
        "We usually refer them *procedures* to these."
      ]
    },
    {
      "cell_type": "code",
      "execution_count": 80,
      "metadata": {
        "id": "FUmNSacrEb43",
        "outputId": "9b41e80a-45ea-42c0-eab3-699bf82af32b",
        "colab": {
          "base_uri": "https://localhost:8080/"
        }
      },
      "outputs": [
        {
          "output_type": "stream",
          "name": "stdout",
          "text": [
            "Hello Mario\n",
            "Goodbye Mario\n"
          ]
        }
      ],
      "source": [
        "def greet(name, greeting = \"Hello\"):\n",
        "    print(\"{} {}\".format(greeting, name))\n",
        "\n",
        "greet(\"Mario\")\n",
        "greet(\"Mario\", \"Goodbye\")"
      ]
    },
    {
      "cell_type": "markdown",
      "metadata": {
        "id": "3rKmlpFNEb43"
      },
      "source": [
        "You can also specify the argument names (and then the order does not matter):"
      ]
    },
    {
      "cell_type": "code",
      "execution_count": 81,
      "metadata": {
        "id": "Z5a36cIHEb43",
        "outputId": "b81e6270-e743-4865-bf7a-c4f983a12d44",
        "colab": {
          "base_uri": "https://localhost:8080/"
        }
      },
      "outputs": [
        {
          "output_type": "stream",
          "name": "stdout",
          "text": [
            "Howdy Mario\n"
          ]
        }
      ],
      "source": [
        "greet(greeting = \"Howdy\", name = \"Mario\")"
      ]
    },
    {
      "cell_type": "markdown",
      "metadata": {
        "id": "bjHBPyJ9Eb43"
      },
      "source": [
        "This is very helpful for functions with >10 arguments!"
      ]
    },
    {
      "cell_type": "markdown",
      "metadata": {
        "id": "GZlCrTqyEb43"
      },
      "source": [
        "# Questions ?\n",
        "\n",
        "- Questions up to this point?\n",
        "- Please do some practical exercises"
      ]
    }
  ],
  "metadata": {
    "celltoolbar": "Slideshow",
    "kernelspec": {
      "display_name": "Python 3",
      "language": "python",
      "name": "python3"
    },
    "language_info": {
      "codemirror_mode": {
        "name": "ipython",
        "version": 3
      },
      "file_extension": ".py",
      "mimetype": "text/x-python",
      "name": "python",
      "nbconvert_exporter": "python",
      "pygments_lexer": "ipython3",
      "version": "3.8.10"
    },
    "rise": {
      "scroll": true
    },
    "toc-autonumbering": false,
    "toc-showtags": false,
    "colab": {
      "provenance": [],
      "include_colab_link": true
    }
  },
  "nbformat": 4,
  "nbformat_minor": 0
}