{
  "cells": [
    {
      "cell_type": "markdown",
      "metadata": {
        "id": "view-in-github",
        "colab_type": "text"
      },
      "source": [
        "<a href=\"https://colab.research.google.com/github/vsantos03/AulasCECE/blob/main/notebooks/01-intro-python-hw.ipynb\" target=\"_parent\"><img src=\"https://colab.research.google.com/assets/colab-badge.svg\" alt=\"Open In Colab\"/></a>"
      ]
    },
    {
      "cell_type": "markdown",
      "metadata": {
        "id": "3IE3pgyq2mtg"
      },
      "source": [
        "1. What is the type of the result of the expression 3 + 1.5 + 4?"
      ]
    },
    {
      "cell_type": "markdown",
      "metadata": {
        "id": "j-uWQ5PY1SHG"
      },
      "source": [
        "# Homework Exercises\n",
        "\n",
        "## Part A"
      ]
    },
    {
      "cell_type": "markdown",
      "metadata": {
        "id": "Y2JX4lNw1SHH"
      },
      "source": [
        "Answer these 3 questions without typing code. Then type code to check your answer.\n",
        "\n",
        "- What is the value of the expression 4 * (6 + 5)\n",
        "\n",
        "- What is the value of the expression 4 * 6 + 5\n",
        "\n",
        "- What is the value of the expression 4 + 6 * 5"
      ]
    },
    {
      "cell_type": "code",
      "execution_count": null,
      "metadata": {
        "colab": {
          "base_uri": "https://localhost:8080/"
        },
        "id": "70vcPz661SHI",
        "outputId": "8bc59eb8-78d0-4c7a-d157-2dc759859644"
      },
      "outputs": [
        {
          "output_type": "execute_result",
          "data": {
            "text/plain": [
              "44"
            ]
          },
          "metadata": {},
          "execution_count": 1
        }
      ],
      "source": [
        "4*(6+5)"
      ]
    },
    {
      "cell_type": "code",
      "source": [
        "4*6+5"
      ],
      "metadata": {
        "colab": {
          "base_uri": "https://localhost:8080/"
        },
        "id": "XNDEocrG2G4m",
        "outputId": "a131bec7-d502-4fab-8c74-222d71633445"
      },
      "execution_count": null,
      "outputs": [
        {
          "output_type": "execute_result",
          "data": {
            "text/plain": [
              "29"
            ]
          },
          "metadata": {},
          "execution_count": 2
        }
      ]
    },
    {
      "cell_type": "code",
      "source": [
        "4+6*5"
      ],
      "metadata": {
        "colab": {
          "base_uri": "https://localhost:8080/"
        },
        "id": "YkVWXEgs2QAf",
        "outputId": "4ded6b4e-c50e-4fe1-f0e7-02d5883a3a45"
      },
      "execution_count": null,
      "outputs": [
        {
          "output_type": "execute_result",
          "data": {
            "text/plain": [
              "34"
            ]
          },
          "metadata": {},
          "execution_count": 3
        }
      ]
    },
    {
      "cell_type": "markdown",
      "metadata": {
        "id": "CKg6q1DM1SHI"
      },
      "source": [
        "1. What is the type of the result of the expression 3 + 1.5 + 4?"
      ]
    },
    {
      "cell_type": "code",
      "execution_count": null,
      "metadata": {
        "colab": {
          "base_uri": "https://localhost:8080/"
        },
        "id": "OMjHwh441SHJ",
        "outputId": "530de3a8-af9d-4657-e699-fed5e30fa73b"
      },
      "outputs": [
        {
          "output_type": "stream",
          "name": "stdout",
          "text": [
            "<class 'float'>\n"
          ]
        }
      ],
      "source": [
        "result = 3 + 1.5 + 4\n",
        "print(type(result))  # Output: <class 'float'>"
      ]
    },
    {
      "cell_type": "markdown",
      "source": [
        "float"
      ],
      "metadata": {
        "id": "O4QEZja02gVV"
      }
    },
    {
      "cell_type": "markdown",
      "metadata": {
        "id": "OI5CcmEa1SHJ"
      },
      "source": [
        "2. Given the string `'hello'` give an index command that returns 'e'."
      ]
    },
    {
      "cell_type": "code",
      "execution_count": 1,
      "metadata": {
        "id": "oC1esq1c1SHJ",
        "colab": {
          "base_uri": "https://localhost:8080/"
        },
        "outputId": "30794ead-6b63-49d9-c13c-653d54bb8a3a"
      },
      "outputs": [
        {
          "output_type": "stream",
          "name": "stdout",
          "text": [
            "e\n"
          ]
        }
      ],
      "source": [
        "print('hello'[1])"
      ]
    },
    {
      "cell_type": "markdown",
      "metadata": {
        "id": "Xnvc1CiX1SHJ"
      },
      "source": [
        "3. Given the string `hello`, give two methods of producing the letter 'o' using indexing."
      ]
    },
    {
      "cell_type": "code",
      "execution_count": 2,
      "metadata": {
        "id": "bJSTSkcn1SHK",
        "colab": {
          "base_uri": "https://localhost:8080/"
        },
        "outputId": "d34197d8-4c00-46f9-94e8-025a573b1c17"
      },
      "outputs": [
        {
          "output_type": "stream",
          "name": "stdout",
          "text": [
            "o\n",
            "o\n"
          ]
        }
      ],
      "source": [
        "hi = 'hello'\n",
        "print(hi[4])\n",
        "print(hi[-1])"
      ]
    },
    {
      "cell_type": "markdown",
      "metadata": {
        "id": "HTR0LhMv1SHK"
      },
      "source": [
        "4. Given the following list, and using indexing, isolate the word 'hello'."
      ]
    },
    {
      "cell_type": "code",
      "execution_count": 3,
      "metadata": {
        "id": "fIba80A61SHK",
        "outputId": "7227e20e-f6d2-496b-95b2-96bdb96628d3",
        "colab": {
          "base_uri": "https://localhost:8080/"
        }
      },
      "outputs": [
        {
          "output_type": "execute_result",
          "data": {
            "text/plain": [
              "[1, 2, [3, 4], 5, [100, 200], ['hello', 'nice'], 23, 11, 1, 7]"
            ]
          },
          "metadata": {},
          "execution_count": 3
        }
      ],
      "source": [
        "lst = [1, 2, [3, 4], 5, [100, 200], ['hello', 'nice'], 23, 11, 1, 7]\n",
        "lst"
      ]
    },
    {
      "cell_type": "code",
      "execution_count": 4,
      "metadata": {
        "id": "PPK6ubKl1SHL",
        "colab": {
          "base_uri": "https://localhost:8080/"
        },
        "outputId": "ebf8634e-7f8e-47e9-9bc3-a4ea2767c551"
      },
      "outputs": [
        {
          "output_type": "stream",
          "name": "stdout",
          "text": [
            "hello\n"
          ]
        }
      ],
      "source": [
        "print(lst[5][0])"
      ]
    },
    {
      "cell_type": "markdown",
      "metadata": {
        "id": "zN5rjhsD1SHL"
      },
      "source": [
        "5. Using keys and indexing, grab the `'hello'` from the following dictionary"
      ]
    },
    {
      "cell_type": "code",
      "execution_count": 5,
      "metadata": {
        "id": "oH1KDgej1SHL",
        "outputId": "b5640b66-a620-4f37-e3b5-8dad189c8c16",
        "colab": {
          "base_uri": "https://localhost:8080/"
        }
      },
      "outputs": [
        {
          "output_type": "execute_result",
          "data": {
            "text/plain": [
              "{'msg': 'hello',\n",
              " 'day': 'sunday',\n",
              " 'month': 'may',\n",
              " 'age': 21,\n",
              " 'people': ['bob', 'ana', 'john']}"
            ]
          },
          "metadata": {},
          "execution_count": 5
        }
      ],
      "source": [
        "d = {'msg':'hello', 'day':'sunday', 'month':'may', 'age':21, 'people':['bob', \"ana\", 'john']}\n",
        "d"
      ]
    },
    {
      "cell_type": "code",
      "execution_count": 6,
      "metadata": {
        "id": "zZFRJL7B1SHM",
        "colab": {
          "base_uri": "https://localhost:8080/"
        },
        "outputId": "7914bc96-b9f0-4b47-86af-c22bc45fb542"
      },
      "outputs": [
        {
          "output_type": "stream",
          "name": "stdout",
          "text": [
            "hello\n"
          ]
        }
      ],
      "source": [
        "print(d['msg'])"
      ]
    },
    {
      "cell_type": "markdown",
      "metadata": {
        "id": "W6LleaCo1SHM"
      },
      "source": [
        "6. What is the major difference between tuples and lists?"
      ]
    },
    {
      "cell_type": "markdown",
      "source": [
        "Lists are mutable and tuples not"
      ],
      "metadata": {
        "id": "cQqU-2ikuaO9"
      }
    },
    {
      "cell_type": "markdown",
      "metadata": {
        "id": "Uiz4Q4pt1SHM"
      },
      "source": [
        "## Part B"
      ]
    },
    {
      "cell_type": "markdown",
      "metadata": {
        "id": "kd8i-rst1SHM"
      },
      "source": [
        "1. What is the output of the following function that receives two numbers as arguments?"
      ]
    },
    {
      "cell_type": "code",
      "execution_count": 7,
      "metadata": {
        "id": "R6ps2ohi1SHM"
      },
      "outputs": [],
      "source": [
        "def smaller(x, y):\n",
        "    if x <= y:\n",
        "        return x\n",
        "    else:\n",
        "        return y"
      ]
    },
    {
      "cell_type": "code",
      "execution_count": 13,
      "metadata": {
        "id": "W9mUiYRs1SHM",
        "colab": {
          "base_uri": "https://localhost:8080/"
        },
        "outputId": "ecd3cec2-a80e-4472-dfc0-6b2af64eedde"
      },
      "outputs": [
        {
          "output_type": "stream",
          "name": "stdout",
          "text": [
            "3\n"
          ]
        }
      ],
      "source": [
        "x = 10\n",
        "y = 3\n",
        "print(smaller(x, y))"
      ]
    },
    {
      "cell_type": "markdown",
      "metadata": {
        "id": "SturcsIP1SHN"
      },
      "source": [
        "2. Write a function that takes two numbers and returns the biggest one"
      ]
    },
    {
      "cell_type": "code",
      "execution_count": 9,
      "metadata": {
        "id": "XQJbed3T1SHN"
      },
      "outputs": [],
      "source": [
        "def bigger(x, y):\n",
        "    if x >= y:\n",
        "        return x\n",
        "    else:\n",
        "        return y"
      ]
    },
    {
      "cell_type": "code",
      "source": [
        "print(bigger(x, y))"
      ],
      "metadata": {
        "colab": {
          "base_uri": "https://localhost:8080/"
        },
        "id": "gfhhpIzkuzRD",
        "outputId": "a0deac31-ca86-4366-9b2d-f314f26498f3"
      },
      "execution_count": 10,
      "outputs": [
        {
          "output_type": "stream",
          "name": "stdout",
          "text": [
            "10\n"
          ]
        }
      ]
    },
    {
      "cell_type": "markdown",
      "metadata": {
        "id": "EEtcz7xN1SHN"
      },
      "source": [
        "3. Write a function that calculates the sum of two numbers"
      ]
    },
    {
      "cell_type": "code",
      "execution_count": 15,
      "metadata": {
        "id": "4fFb4WT-1SHN"
      },
      "outputs": [],
      "source": [
        "def sum_numbers(x, y):\n",
        "    return x + y"
      ]
    },
    {
      "cell_type": "code",
      "source": [
        "print(sum_numbers(x, y))"
      ],
      "metadata": {
        "colab": {
          "base_uri": "https://localhost:8080/"
        },
        "id": "albBZ1XFvCOg",
        "outputId": "4eee1ac8-d398-4c5e-89eb-3a31243dbac9"
      },
      "execution_count": 16,
      "outputs": [
        {
          "output_type": "stream",
          "name": "stdout",
          "text": [
            "13\n"
          ]
        }
      ]
    },
    {
      "cell_type": "markdown",
      "metadata": {
        "id": "274vOOdv1SHN"
      },
      "source": [
        "4. Write a function that checks if a number is negative"
      ]
    },
    {
      "cell_type": "code",
      "execution_count": 17,
      "metadata": {
        "id": "7LszvwU91SHN"
      },
      "outputs": [],
      "source": [
        "def is_negative(x):\n",
        "    return x < 0"
      ]
    },
    {
      "cell_type": "code",
      "source": [
        "z = -5\n",
        "print(is_negative(x))\n",
        "print(is_negative(z))"
      ],
      "metadata": {
        "colab": {
          "base_uri": "https://localhost:8080/"
        },
        "id": "1BYAbP-PvbpW",
        "outputId": "6e593329-34c4-4d49-b86b-2fd0f45cc201"
      },
      "execution_count": 18,
      "outputs": [
        {
          "output_type": "stream",
          "name": "stdout",
          "text": [
            "False\n",
            "True\n"
          ]
        }
      ]
    },
    {
      "cell_type": "markdown",
      "metadata": {
        "id": "CDOGCyXp1SHN"
      },
      "source": [
        "## Check if a number is multiple of another\n",
        "Consider the following function that takes two arguments and checks if the first is multiple of the second"
      ]
    },
    {
      "cell_type": "code",
      "execution_count": 19,
      "metadata": {
        "id": "fyEJ8vFh1SHN"
      },
      "outputs": [],
      "source": [
        "def is_multiple(x, y):\n",
        "    return x % y == 0"
      ]
    },
    {
      "cell_type": "code",
      "execution_count": 20,
      "metadata": {
        "id": "cnP90oE11SHN",
        "outputId": "4910649a-5c6a-4fe1-d256-38b56c44c0f5",
        "colab": {
          "base_uri": "https://localhost:8080/"
        }
      },
      "outputs": [
        {
          "output_type": "stream",
          "name": "stdout",
          "text": [
            "True\n"
          ]
        }
      ],
      "source": [
        "print(is_multiple(9,3))"
      ]
    },
    {
      "cell_type": "markdown",
      "metadata": {
        "id": "D1TrSrj-1SHO"
      },
      "source": [
        "1. Write a function that checks if a number is even"
      ]
    },
    {
      "cell_type": "code",
      "execution_count": 21,
      "metadata": {
        "id": "QuKDYB4o1SHO"
      },
      "outputs": [],
      "source": [
        "def is_even(x):\n",
        "    if x % 2 == 0:\n",
        "        return True\n",
        "    else:\n",
        "        return False"
      ]
    },
    {
      "cell_type": "code",
      "source": [
        "print(is_even(9))\n",
        "print(is_even(8))"
      ],
      "metadata": {
        "id": "Z7t_UeL21kbP",
        "outputId": "7818a4b6-2a96-4cd4-cd96-ce8ce0667188",
        "colab": {
          "base_uri": "https://localhost:8080/"
        }
      },
      "execution_count": 22,
      "outputs": [
        {
          "output_type": "stream",
          "name": "stdout",
          "text": [
            "False\n",
            "True\n"
          ]
        }
      ]
    },
    {
      "cell_type": "markdown",
      "metadata": {
        "id": "5lmDHSpN1SHO"
      },
      "source": [
        "## Control structures: `for` and `while`\n",
        "Consider the following function that sums all the numbers up to a number `n`"
      ]
    },
    {
      "cell_type": "code",
      "execution_count": 23,
      "metadata": {
        "id": "8tS-oC-h1SHO"
      },
      "outputs": [],
      "source": [
        "def sum_naturals_up_to(n):\n",
        "    total = 0\n",
        "    i = 1\n",
        "    while i <= n:\n",
        "        total = total + i\n",
        "        i = i + 1\n",
        "    return total"
      ]
    },
    {
      "cell_type": "code",
      "execution_count": 24,
      "metadata": {
        "id": "uYS4ALXW1SHO",
        "outputId": "0624d610-df1f-4ec3-a2e5-fee37d112567",
        "colab": {
          "base_uri": "https://localhost:8080/"
        }
      },
      "outputs": [
        {
          "output_type": "execute_result",
          "data": {
            "text/plain": [
              "15"
            ]
          },
          "metadata": {},
          "execution_count": 24
        }
      ],
      "source": [
        "sum_naturals_up_to(5)"
      ]
    },
    {
      "cell_type": "markdown",
      "metadata": {
        "id": "j0uIzPXB1SHO"
      },
      "source": [
        "1. Write a function that sums all the numbers between `a` and `b` (including them)"
      ]
    },
    {
      "cell_type": "code",
      "execution_count": null,
      "metadata": {
        "id": "GA3zYfzt1SHO"
      },
      "outputs": [],
      "source": [
        "def sum_naturals(a, b):\n",
        "    # TODO\n",
        "    pass"
      ]
    },
    {
      "cell_type": "markdown",
      "metadata": {
        "id": "lXnqfRJm1SHP"
      },
      "source": [
        "2. Write a function that sums all the even numbers between `a` and `b` (including 'a' and 'b')"
      ]
    },
    {
      "cell_type": "code",
      "execution_count": null,
      "metadata": {
        "id": "mzFVR8561SHP"
      },
      "outputs": [],
      "source": [
        "def sum_even_naturals(a, b):\n",
        "    # TODO\n",
        "    pass"
      ]
    },
    {
      "cell_type": "markdown",
      "metadata": {
        "id": "A19QLdQm1SHT"
      },
      "source": [
        "## Control structures: for loop"
      ]
    },
    {
      "cell_type": "markdown",
      "metadata": {
        "id": "KpFXiyuN1SHU"
      },
      "source": [
        "Consider the following function that sums all the numbers up to a number `n`"
      ]
    },
    {
      "cell_type": "code",
      "execution_count": null,
      "metadata": {
        "id": "nAT1SWLQ1SHU"
      },
      "outputs": [],
      "source": [
        "def sum_naturals_up_to2(n):\n",
        "    total = 0\n",
        "    for i in range(n+1):\n",
        "        total = total + i\n",
        "    return total"
      ]
    },
    {
      "cell_type": "code",
      "execution_count": null,
      "metadata": {
        "id": "qP6fDt3-1SHU",
        "outputId": "48dd1d5e-fe04-4643-fd3d-221b157bf613"
      },
      "outputs": [
        {
          "data": {
            "text/plain": [
              "15"
            ]
          },
          "execution_count": 32,
          "metadata": {},
          "output_type": "execute_result"
        }
      ],
      "source": [
        "sum_naturals_up_to2(5)"
      ]
    },
    {
      "cell_type": "markdown",
      "metadata": {
        "id": "k1aL1brL1SHU"
      },
      "source": [
        "1. Write a function that sums all the numbers between `a` and `b` (including them)"
      ]
    },
    {
      "cell_type": "code",
      "execution_count": null,
      "metadata": {
        "id": "twHRNKZw1SHU"
      },
      "outputs": [],
      "source": [
        "def sum_naturals(a, b):\n",
        "    # TODO\n",
        "    pass"
      ]
    },
    {
      "cell_type": "markdown",
      "metadata": {
        "id": "P5uAmCmn1SHV"
      },
      "source": [
        "2. Write a function that sums all the even numbers between `a` and `b` (including 'a' and 'b')"
      ]
    },
    {
      "cell_type": "code",
      "execution_count": null,
      "metadata": {
        "id": "PRHxeQTI1SHV"
      },
      "outputs": [],
      "source": [
        "def sum_even_naturals(a, b):\n",
        "    # TODO\n",
        "    pass"
      ]
    },
    {
      "cell_type": "markdown",
      "metadata": {
        "id": "u_fR2pJV1SHV"
      },
      "source": [
        "3. Write the multiplication table for the numbers 1 to 10"
      ]
    },
    {
      "cell_type": "code",
      "execution_count": null,
      "metadata": {
        "id": "BGbQm_ha1SHV"
      },
      "outputs": [],
      "source": []
    },
    {
      "cell_type": "markdown",
      "metadata": {
        "id": "EtDSwngi1SHV"
      },
      "source": [
        "## Input and output\n",
        "The following function asks for a positive number until a positive number is introduded"
      ]
    },
    {
      "cell_type": "code",
      "execution_count": null,
      "metadata": {
        "id": "de0n9Rlw1SHV",
        "outputId": "91e0b932-5e9e-4ebb-8326-168575a19f0a"
      },
      "outputs": [
        {
          "name": "stdin",
          "output_type": "stream",
          "text": [
            "Positive number: 2\n"
          ]
        },
        {
          "data": {
            "text/plain": [
              "2.0"
            ]
          },
          "execution_count": 50,
          "metadata": {},
          "output_type": "execute_result"
        }
      ],
      "source": [
        "def positive_number():\n",
        "    n = float(input(\"Positive number:\"))\n",
        "    while n <= 0:\n",
        "        print(\"The number {} is not positive\".format(n))\n",
        "        n = float(input(\"Positive number:\"))\n",
        "    return n\n",
        "\n",
        "mynum = positive_number()\n",
        "mynum"
      ]
    },
    {
      "cell_type": "markdown",
      "metadata": {
        "id": "wdoWS07Y1SHV"
      },
      "source": [
        "1. Write a function that asks for a valid age. By default, a valid age belongs to the interval [0..100]"
      ]
    },
    {
      "cell_type": "code",
      "execution_count": null,
      "metadata": {
        "id": "FssNvhFq1SHV"
      },
      "outputs": [],
      "source": [
        "def ask_for_age(a=0, b=100):\n",
        "    # TODO\n",
        "    pass"
      ]
    },
    {
      "cell_type": "markdown",
      "metadata": {
        "id": "dIQitbzU1SHW"
      },
      "source": [
        "## Lists\n",
        "The following function caclulates the sum of all numbers in a given list  "
      ]
    },
    {
      "cell_type": "code",
      "execution_count": null,
      "metadata": {
        "id": "-u9nFMK21SHW"
      },
      "outputs": [],
      "source": [
        "def sum_all(lst):\n",
        "    total = 0.0\n",
        "    for num in lst:\n",
        "        total = total + num\n",
        "    return total"
      ]
    },
    {
      "cell_type": "code",
      "execution_count": null,
      "metadata": {
        "id": "0FdkGVMD1SHW",
        "outputId": "7c6da483-534b-4820-9fc2-52d3d087fee6"
      },
      "outputs": [
        {
          "data": {
            "text/plain": [
              "12.0"
            ]
          },
          "execution_count": 46,
          "metadata": {},
          "output_type": "execute_result"
        }
      ],
      "source": [
        "sum_all([3, 2, 7])"
      ]
    },
    {
      "cell_type": "markdown",
      "metadata": {
        "id": "QINLltyI1SHW"
      },
      "source": [
        "1. Write a function that receives a list of numbers as argument and returns their average"
      ]
    },
    {
      "cell_type": "code",
      "execution_count": null,
      "metadata": {
        "id": "5lrxpmgz1SHW"
      },
      "outputs": [],
      "source": [
        "def average(lst):\n",
        "    # TODO\n",
        "    pass"
      ]
    },
    {
      "cell_type": "code",
      "execution_count": null,
      "metadata": {
        "id": "RHsNu_hs1SHX"
      },
      "outputs": [],
      "source": []
    }
  ],
  "metadata": {
    "kernelspec": {
      "display_name": "Python 3",
      "language": "python",
      "name": "python3"
    },
    "language_info": {
      "codemirror_mode": {
        "name": "ipython",
        "version": 3
      },
      "file_extension": ".py",
      "mimetype": "text/x-python",
      "name": "python",
      "nbconvert_exporter": "python",
      "pygments_lexer": "ipython3",
      "version": "3.8.10"
    },
    "toc-autonumbering": false,
    "colab": {
      "provenance": [],
      "include_colab_link": true
    }
  },
  "nbformat": 4,
  "nbformat_minor": 0
}